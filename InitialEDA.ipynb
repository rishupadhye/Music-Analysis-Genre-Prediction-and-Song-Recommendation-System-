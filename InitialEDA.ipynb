{
  "nbformat": 4,
  "nbformat_minor": 0,
  "metadata": {
    "kernelspec": {
      "display_name": "Python 3",
      "language": "python",
      "name": "python3"
    },
    "language_info": {
      "codemirror_mode": {
        "name": "ipython",
        "version": 3
      },
      "file_extension": ".py",
      "mimetype": "text/x-python",
      "name": "python",
      "nbconvert_exporter": "python",
      "pygments_lexer": "ipython3",
      "version": "3.7.3"
    },
    "colab": {
      "name": "IST718-InitialEDA.ipynb",
      "provenance": []
    }
  },
  "cells": [
    {
      "cell_type": "code",
      "metadata": {
        "colab": {
          "base_uri": "https://localhost:8080/"
        },
        "id": "62P-BiRQfl4c",
        "outputId": "90822699-046c-48fc-b98d-4039619e592c"
      },
      "source": [
        "%%bash\n",
        "# Do not change or modify this file\n",
        "# Need to install pyspark\n",
        "# if pyspark is already installed, will print a message indicating pyspark already isntalled\n",
        "pip install pyspark\n",
        "\n",
        "# Download the data files from github\n",
        "# If the data file does not exist in the colab environment\n",
        "if [[ ! -f ./data.csv ]]; then \n",
        "   # download the data file from github and save it in this colab environment instance\n",
        "   wget  https://raw.githubusercontent.com/ssadagop97/IST718-Fall2020/main/data.csv\n",
        "fi\n",
        "ls data.csv"
      ],
      "execution_count": 1,
      "outputs": [
        {
          "output_type": "stream",
          "text": [
            "Requirement already satisfied: pyspark in /usr/local/lib/python3.6/dist-packages (3.0.1)\n",
            "Requirement already satisfied: py4j==0.10.9 in /usr/local/lib/python3.6/dist-packages (from pyspark) (0.10.9)\n",
            "data.csv\n"
          ],
          "name": "stdout"
        }
      ]
    },
    {
      "cell_type": "code",
      "metadata": {
        "id": "VGDIT0iGgQW_"
      },
      "source": [
        "from pyspark.sql import SparkSession\n",
        "from pyspark.sql import SQLContext\n",
        "from pyspark.sql.functions import lower, col\n",
        "spark = SparkSession .builder.master(\"local[*]\").config(\"spark.memory.fraction\", 0.8) .config(\"spark.executor.memory\", \"12g\").config(\"spark.driver.memory\", \"12g\").config(\"spark.memory.offHeap.enabled\",'true').config(\"spark.memory.offHeap.size\",\"12g\").getOrCreate()\n",
        "sc = spark.sparkContext\n",
        "sqlContext = SQLContext(sc)"
      ],
      "execution_count": 2,
      "outputs": []
    },
    {
      "cell_type": "code",
      "metadata": {
        "id": "LcsQJjJ1fl4d"
      },
      "source": [
        "import numpy as np\n",
        "import pandas as pd\n",
        "from pyspark.ml import feature\n",
        "from pyspark.ml import classification\n",
        "from pyspark.ml.evaluation import RegressionEvaluator\n",
        "from pyspark.sql import functions as fn\n",
        "from pyspark.ml import Pipeline\n",
        "from pyspark.ml.evaluation import BinaryClassificationEvaluator, \\\n",
        "    MulticlassClassificationEvaluator, \\\n",
        "    RegressionEvaluator\n",
        "from pyspark.ml.tuning import CrossValidator, ParamGridBuilder\n",
        "from pyspark.ml.regression import LinearRegression\n",
        "import seaborn as sns"
      ],
      "execution_count": 3,
      "outputs": []
    },
    {
      "cell_type": "code",
      "metadata": {
        "colab": {
          "base_uri": "https://localhost:8080/"
        },
        "id": "phrELjUffl4d",
        "outputId": "df1b0d8d-437a-42a2-e128-cbbcd8cd6128"
      },
      "source": [
        "tracks_df = spark.read.format(\"csv\").option(\"header\", \"true\").load(\"data.csv\")\n",
        "tracks_df.dtypes"
      ],
      "execution_count": 4,
      "outputs": [
        {
          "output_type": "execute_result",
          "data": {
            "text/plain": [
              "[('track_id', 'string'),\n",
              " ('Album Title', 'string'),\n",
              " ('Album_ID', 'string'),\n",
              " ('Artist_ID', 'string'),\n",
              " ('title', 'string'),\n",
              " ('Number of tracks', 'string'),\n",
              " ('type', 'string'),\n",
              " ('Album Created Date', 'string'),\n",
              " ('Year', 'string'),\n",
              " ('associated_labels', 'string'),\n",
              " ('Albums Listen', 'string'),\n",
              " ('album_favourites', 'string'),\n",
              " ('track_favorites', 'string'),\n",
              " ('tags', 'string'),\n",
              " ('composer', 'string'),\n",
              " ('duration', 'string'),\n",
              " ('genre_id', 'string'),\n",
              " ('top_genre', 'string'),\n",
              " ('genre_top', 'string'),\n",
              " ('interest', 'string'),\n",
              " ('language_code', 'string'),\n",
              " ('Song listens', 'string'),\n",
              " ('chroma_cens', 'string'),\n",
              " ('chroma_cqt', 'string'),\n",
              " ('chroma_stft', 'string'),\n",
              " ('mfcc', 'string'),\n",
              " ('rmse', 'string'),\n",
              " ('spectral_bandwidth', 'string'),\n",
              " ('spectral_centroid', 'string'),\n",
              " ('spectral_contrast', 'string'),\n",
              " ('spectral_rolloff', 'string'),\n",
              " ('tonnetz', 'string'),\n",
              " ('zcr', 'string'),\n",
              " ('top_genres', 'string')]"
            ]
          },
          "metadata": {
            "tags": []
          },
          "execution_count": 4
        }
      ]
    },
    {
      "cell_type": "code",
      "metadata": {
        "id": "6GroOdYBfl4e"
      },
      "source": [
        "\n",
        "\n",
        "from pyspark.sql.types import DoubleType\n",
        "from pyspark.sql.types import DateType\n",
        "\n",
        "tracks_df = tracks_df.withColumn(\"num_tracks_in_album\", tracks_df[\"Number of tracks\"].cast(DoubleType()))\n",
        "tracks_df = tracks_df.withColumn(\"year_of_release\", tracks_df[\"Year\"].cast(DateType()))\n",
        "tracks_df = tracks_df.withColumn(\"num_listens_per_album\", tracks_df[\"Albums Listen\"].cast(DoubleType()))\n",
        "tracks_df = tracks_df.withColumn(\"track_favorites\", tracks_df[\"track_favorites\"].cast(DoubleType()))\n",
        "tracks_df = tracks_df.withColumn(\"album_favourites\", tracks_df[\"album_favourites\"].cast(DoubleType()))\n",
        "tracks_df = tracks_df.withColumn(\"duration\", tracks_df[\"duration\"].cast(DoubleType()))\n",
        "tracks_df = tracks_df.withColumn(\"interest\", tracks_df[\"interest\"].cast(DoubleType()))\n",
        "tracks_df = tracks_df.withColumn(\"num_listens_per_song\", tracks_df[\"Song listens\"].cast(DoubleType()))\n",
        "tracks_df = tracks_df.withColumn(\"chroma_cens\", tracks_df[\"chroma_cens\"].cast(DoubleType()))\n",
        "tracks_df = tracks_df.withColumn(\"chroma_cqt\", tracks_df[\"chroma_cqt\"].cast(DoubleType()))\n",
        "tracks_df = tracks_df.withColumn(\"chroma_stft\", tracks_df[\"chroma_stft\"].cast(DoubleType()))\n",
        "tracks_df = tracks_df.withColumn(\"mfcc\", tracks_df[\"mfcc\"].cast(DoubleType()))\n",
        "tracks_df = tracks_df.withColumn(\"rmse\", tracks_df[\"rmse\"].cast(DoubleType()))\n",
        "tracks_df = tracks_df.withColumn(\"spectral_centroid\", tracks_df[\"spectral_centroid\"].cast(DoubleType()))\n",
        "tracks_df = tracks_df.withColumn(\"spectral_bandwidth\", tracks_df[\"spectral_bandwidth\"].cast(DoubleType()))\n",
        "tracks_df = tracks_df.withColumn(\"spectral_contrast\", tracks_df[\"spectral_contrast\"].cast(DoubleType()))\n",
        "tracks_df = tracks_df.withColumn(\"spectral_rolloff\", tracks_df[\"spectral_rolloff\"].cast(DoubleType()))\n",
        "tracks_df = tracks_df.withColumn(\"tonnetz\", tracks_df[\"tonnetz\"].cast(DoubleType()))\n",
        "tracks_df = tracks_df.withColumn(\"zcr\", tracks_df[\"zcr\"].cast(DoubleType()))"
      ],
      "execution_count": 5,
      "outputs": []
    },
    {
      "cell_type": "code",
      "metadata": {
        "id": "pLhnD4Tufl4e"
      },
      "source": [
        "cont_columns=['num_tracks_in_album','year_of_release','num_listens_per_album','track_favorites','album_favourites','duration','interest','num_listens_per_song','chroma_cens','chroma_cqt','chroma_stft','mfcc','rmse',\n",
        "             'spectral_centroid','spectral_bandwidth','spectral_contrast','spectral_rolloff','tonnetz','zcr']\n",
        "cat_columns = ['track_id','Album Title','Album_ID','Artist_ID','title','type','associated_labels','tags','composer','top_genres','language_code','genre_top']\n",
        "tracks_df = tracks_df.select('track_id','Album Title','Album_ID','Artist_ID','title','type','associated_labels','tags','composer','top_genres','genre_top','language_code','num_tracks_in_album','year_of_release','num_listens_per_album','track_favorites','album_favourites','duration','interest','num_listens_per_song','chroma_cens','chroma_cqt','chroma_stft','mfcc','rmse','spectral_centroid','spectral_bandwidth','spectral_contrast','spectral_rolloff','tonnetz','zcr')"
      ],
      "execution_count": 6,
      "outputs": []
    },
    {
      "cell_type": "code",
      "metadata": {
        "id": "TXSoiopNfl4e",
        "colab": {
          "base_uri": "https://localhost:8080/"
        },
        "outputId": "866110e1-6fa7-4bea-ca79-feff19c5421c"
      },
      "source": [
        "tracks_df.dtypes"
      ],
      "execution_count": 7,
      "outputs": [
        {
          "output_type": "execute_result",
          "data": {
            "text/plain": [
              "[('track_id', 'string'),\n",
              " ('Album Title', 'string'),\n",
              " ('Album_ID', 'string'),\n",
              " ('Artist_ID', 'string'),\n",
              " ('title', 'string'),\n",
              " ('type', 'string'),\n",
              " ('associated_labels', 'string'),\n",
              " ('tags', 'string'),\n",
              " ('composer', 'string'),\n",
              " ('top_genres', 'string'),\n",
              " ('genre_top', 'string'),\n",
              " ('language_code', 'string'),\n",
              " ('num_tracks_in_album', 'double'),\n",
              " ('year_of_release', 'date'),\n",
              " ('num_listens_per_album', 'double'),\n",
              " ('track_favorites', 'double'),\n",
              " ('album_favourites', 'double'),\n",
              " ('duration', 'double'),\n",
              " ('interest', 'double'),\n",
              " ('num_listens_per_song', 'double'),\n",
              " ('chroma_cens', 'double'),\n",
              " ('chroma_cqt', 'double'),\n",
              " ('chroma_stft', 'double'),\n",
              " ('mfcc', 'double'),\n",
              " ('rmse', 'double'),\n",
              " ('spectral_centroid', 'double'),\n",
              " ('spectral_bandwidth', 'double'),\n",
              " ('spectral_contrast', 'double'),\n",
              " ('spectral_rolloff', 'double'),\n",
              " ('tonnetz', 'double'),\n",
              " ('zcr', 'double')]"
            ]
          },
          "metadata": {
            "tags": []
          },
          "execution_count": 7
        }
      ]
    },
    {
      "cell_type": "code",
      "metadata": {
        "scrolled": true,
        "id": "cT-rH99kfl4e"
      },
      "source": [
        "from pyspark.sql import functions as fn\n",
        "from pyspark.sql.functions import col\n",
        "top_gernes=['Electronic',\n",
        "'Avant-Garde',\n",
        "'Experimental',\n",
        "'Rock',\n",
        "'Pop',\n",
        "'Folk',\n",
        "'Hip-Hop',\n",
        "'Punk',\n",
        "'Noise',\n",
        "'Soundtrack',\n",
        "'Lo-Fi',\n",
        "'Experimental Pop',\n",
        "'Jazz',\n",
        "'Classical',\n",
        "'International',\n",
        "'Blues',\n",
        "'Ambient Electronic',\n",
        "'Indie-Rock',\n",
        "'Field Recordings',\n",
        "'Psych-Rock'\n",
        "]\n",
        "tracks_df = tracks_df.withColumn(\"top_genres\",fn.when(col(\"top_genres\").isin(top_gernes), col(\"top_genres\")).otherwise(col(\"genre_top\")))\n",
        "tracks_df = tracks_df.withColumn(\"top_genres\",fn.when(col(\"top_genres\").isin(top_gernes), col(\"top_genres\")).otherwise('Others'))"
      ],
      "execution_count": 8,
      "outputs": []
    },
    {
      "cell_type": "code",
      "metadata": {
        "id": "XxTKAvUMfl4e",
        "colab": {
          "base_uri": "https://localhost:8080/",
          "height": 577
        },
        "outputId": "add1643f-3657-485f-d6ed-410aca2e8abb"
      },
      "source": [
        "#Y Variable Distribution\n",
        "import matplotlib.pyplot as plt\n",
        "i = 0\n",
        "for var_name in ['top_genres']:\n",
        "    tracks_df.toPandas()[var_name].value_counts().sort_values().plot(kind = 'barh', color = 'C0')\n",
        "plt.tight_layout()\n",
        "plt.show()\n",
        "plt.title('Y Var: Distribution')"
      ],
      "execution_count": 9,
      "outputs": [
        {
          "output_type": "display_data",
          "data": {
            "image/png": "[encoded data removed]",
            "text/plain": [
              "<Figure size 432x288 with 1 Axes>"
            ]
          },
          "metadata": {
            "tags": [],
            "needs_background": "light"
          }
        },
        {
          "output_type": "execute_result",
          "data": {
            "text/plain": [
              "Text(0.5, 1.0, 'Y Var: Distribution')"
            ]
          },
          "metadata": {
            "tags": []
          },
          "execution_count": 9
        },
        {
          "output_type": "display_data",
          "data": {
            "image/png": "[encoded data removed]",
            "text/plain": [
              "<Figure size 432x288 with 1 Axes>"
            ]
          },
          "metadata": {
            "tags": [],
            "needs_background": "light"
          }
        }
      ]
    },
    {
      "cell_type": "code",
      "metadata": {
        "id": "daYpnVYbfl4f",
        "colab": {
          "base_uri": "https://localhost:8080/",
          "height": 1000
        },
        "outputId": "8b50edd6-5d75-4dff-f271-ed45ffa85ebb"
      },
      "source": [
        "# Listens, favorites, comments.\n",
        "\n",
        "def plot(col0, col1, maxval, subplot=None):\n",
        "    if col0 == 'track_id':\n",
        "        d = tracks_df.select('track_id',col1).toPandas()\n",
        "    if col0 in ['Album_ID']:\n",
        "        d = tracks_df.select(col0,col1).toPandas()\n",
        "    if subplot:\n",
        "        plt.subplot(subplot)\n",
        "    d = d[col1]\n",
        "    p = sns.distplot(d[d.values < maxval], kde=False, color='k', hist_kws=dict(alpha=0.4))\n",
        "    p.set_xlim(-1, maxval)\n",
        "    p.set_xlabel('#' + col1)\n",
        "    p.set_ylabel('#' + col0 + 's')\n",
        "\n",
        "plt.figure(figsize=(17, 10))\n",
        "plot('track_id', 'num_listens_per_song', 10e3, 221)\n",
        "plot('track_id', 'interest', 10e3, 222)\n",
        "plot('track_id', 'track_favorites', 100, 223)\n",
        "\n",
        "plt.figure(figsize=(17, 10))\n",
        "plot('Album_ID', 'num_listens_per_album', 100e3, 221)\n",
        "plot('Album_ID', 'album_favourites', 100, 223)\n"
      ],
      "execution_count": 10,
      "outputs": [
        {
          "output_type": "stream",
          "text": [
            "/usr/local/lib/python3.6/dist-packages/ipykernel_launcher.py:11: RuntimeWarning: invalid value encountered in less\n",
            "  # This is added back by InteractiveShellApp.init_path()\n",
            "/usr/local/lib/python3.6/dist-packages/seaborn/distributions.py:2551: FutureWarning: `distplot` is a deprecated function and will be removed in a future version. Please adapt your code to use either `displot` (a figure-level function with similar flexibility) or `histplot` (an axes-level function for histograms).\n",
            "  warnings.warn(msg, FutureWarning)\n"
          ],
          "name": "stderr"
        },
        {
          "output_type": "display_data",
          "data": {
            "image/png": "[encoded data removed]",
            "text/plain": [
              "<Figure size 1224x720 with 3 Axes>"
            ]
          },
          "metadata": {
            "tags": [],
            "needs_background": "light"
          }
        },
        {
          "output_type": "display_data",
          "data": {
            "image/png": "[encoded data removed]",
            "text/plain": [
              "<Figure size 1224x720 with 2 Axes>"
            ]
          },
          "metadata": {
            "tags": [],
            "needs_background": "light"
          }
        }
      ]
    },
    {
      "cell_type": "code",
      "metadata": {
        "id": "OiNbFwDCfl4f",
        "colab": {
          "base_uri": "https://localhost:8080/",
          "height": 378
        },
        "outputId": "1acb00ad-1523-4cef-8d52-08c22d3b171c"
      },
      "source": [
        "def plo_per_trackt(col0,subplot=None):\n",
        "    if subplot:\n",
        "        plt.subplot(subplot)\n",
        "    for effect in [col0]:\n",
        "        d = tracks_df.select(effect).toPandas()[effect].value_counts()\n",
        "        p = sns.distplot(d[(d.values < 50) & (d.values >= 0)], kde=False).set_title('Number of tracks per '+effect)\n",
        "\n",
        "plt.figure(figsize=(17, 10))\n",
        "\n",
        "plo_per_trackt('Album_ID', 221)\n",
        "plo_per_trackt('Artist_ID', 222)"
      ],
      "execution_count": 11,
      "outputs": [
        {
          "output_type": "stream",
          "text": [
            "/usr/local/lib/python3.6/dist-packages/seaborn/distributions.py:2551: FutureWarning: `distplot` is a deprecated function and will be removed in a future version. Please adapt your code to use either `displot` (a figure-level function with similar flexibility) or `histplot` (an axes-level function for histograms).\n",
            "  warnings.warn(msg, FutureWarning)\n"
          ],
          "name": "stderr"
        },
        {
          "output_type": "display_data",
          "data": {
            "image/png": "[encoded data removed]",
            "text/plain": [
              "<Figure size 1224x720 with 2 Axes>"
            ]
          },
          "metadata": {
            "tags": [],
            "needs_background": "light"
          }
        }
      ]
    },
    {
      "cell_type": "code",
      "metadata": {
        "id": "iayB4U5-fl4f",
        "colab": {
          "base_uri": "https://localhost:8080/",
          "height": 297
        },
        "outputId": "23ec0293-e315-4cc3-fcc7-d2e3c88e2593"
      },
      "source": [
        "from pandas import Grouper\n",
        "from matplotlib import pyplot\n",
        "import datetime\n",
        "\n",
        "def plot(col0, col1):\n",
        "    if col0 == 'track_id':\n",
        "        d = tracks_df.select('track_id',col1).toPandas().drop_duplicates('track_id')\n",
        "    if col0 in ['Album_ID']:\n",
        "        d = tracks_df.select(col0,col1).toPandas().drop_duplicates('Album_ID')\n",
        "    d=d.groupby([col1]).count().reset_index()\n",
        "    p=sns.lineplot(data=d[30:], x=\"year_of_release\", y=\"Album_ID\")\n",
        "    p.set_xlim(pd.to_datetime(1990, format='%Y'),pd.to_datetime(2017, format='%Y'))\n",
        "plt.xlabel('release year')\n",
        "plt.ylabel('#albums')\n",
        "plt.title('Number of Albums released : 1990 to 2017')\n",
        "\n",
        "plt.tight_layout()\n",
        "plot('Album_ID', 'year_of_release')\n",
        "\n",
        "\n"
      ],
      "execution_count": 12,
      "outputs": [
        {
          "output_type": "display_data",
          "data": {
            "image/png": "[encoded data removed]",
            "text/plain": [
              "<Figure size 432x288 with 1 Axes>"
            ]
          },
          "metadata": {
            "tags": [],
            "needs_background": "light"
          }
        }
      ]
    },
    {
      "cell_type": "code",
      "metadata": {
        "id": "8hrMRDAffl4f",
        "colab": {
          "base_uri": "https://localhost:8080/",
          "height": 642
        },
        "outputId": "128a78eb-afc1-4db0-9dd9-ff20b5fff3c8"
      },
      "source": [
        "durations = tracks_df.select('track_id', 'duration').toPandas()\n",
        "plt.figure(figsize=(10, 4))  # Poster: (7, 3)\n",
        "d = durations['duration']\n",
        "p = sns.distplot(d[d.values < 800], kde=False, rug=False, color='k', hist_kws=dict(alpha=0.4))\n",
        "p.set_title('Distribution of Track Durations')\n",
        "p.set_xlabel('duration [seconds]')\n",
        "p.set_ylabel('#tracks')\n",
        "p.set_xlim(0, 800)  # Poster: 500\n",
        "plt.tight_layout()\n",
        "durations.describe()"
      ],
      "execution_count": 13,
      "outputs": [
        {
          "output_type": "stream",
          "text": [
            "/usr/local/lib/python3.6/dist-packages/ipykernel_launcher.py:4: RuntimeWarning: invalid value encountered in less\n",
            "  after removing the cwd from sys.path.\n",
            "/usr/local/lib/python3.6/dist-packages/seaborn/distributions.py:2551: FutureWarning: `distplot` is a deprecated function and will be removed in a future version. Please adapt your code to use either `displot` (a figure-level function with similar flexibility) or `histplot` (an axes-level function for histograms).\n",
            "  warnings.warn(msg, FutureWarning)\n"
          ],
          "name": "stderr"
        },
        {
          "output_type": "execute_result",
          "data": {
            "text/html": [
              "<div>\n",
              "<style scoped>\n",
              "    .dataframe tbody tr th:only-of-type {\n",
              "        vertical-align: middle;\n",
              "    }\n",
              "\n",
              "    .dataframe tbody tr th {\n",
              "        vertical-align: top;\n",
              "    }\n",
              "\n",
              "    .dataframe thead th {\n",
              "        text-align: right;\n",
              "    }\n",
              "</style>\n",
              "<table border=\"1\" class=\"dataframe\">\n",
              "  <thead>\n",
              "    <tr style=\"text-align: right;\">\n",
              "      <th></th>\n",
              "      <th>duration</th>\n",
              "    </tr>\n",
              "  </thead>\n",
              "  <tbody>\n",
              "    <tr>\n",
              "      <th>count</th>\n",
              "      <td>78057.000000</td>\n",
              "    </tr>\n",
              "    <tr>\n",
              "      <th>mean</th>\n",
              "      <td>278.465239</td>\n",
              "    </tr>\n",
              "    <tr>\n",
              "      <th>std</th>\n",
              "      <td>307.875196</td>\n",
              "    </tr>\n",
              "    <tr>\n",
              "      <th>min</th>\n",
              "      <td>-1.830000</td>\n",
              "    </tr>\n",
              "    <tr>\n",
              "      <th>25%</th>\n",
              "      <td>146.000000</td>\n",
              "    </tr>\n",
              "    <tr>\n",
              "      <th>50%</th>\n",
              "      <td>218.000000</td>\n",
              "    </tr>\n",
              "    <tr>\n",
              "      <th>75%</th>\n",
              "      <td>312.000000</td>\n",
              "    </tr>\n",
              "    <tr>\n",
              "      <th>max</th>\n",
              "      <td>18350.000000</td>\n",
              "    </tr>\n",
              "  </tbody>\n",
              "</table>\n",
              "</div>"
            ],
            "text/plain": [
              "           duration\n",
              "count  78057.000000\n",
              "mean     278.465239\n",
              "std      307.875196\n",
              "min       -1.830000\n",
              "25%      146.000000\n",
              "50%      218.000000\n",
              "75%      312.000000\n",
              "max    18350.000000"
            ]
          },
          "metadata": {
            "tags": []
          },
          "execution_count": 13
        },
        {
          "output_type": "display_data",
          "data": {
            "image/png": "[encoded data removed]",
            "text/plain": [
              "<Figure size 720x288 with 1 Axes>"
            ]
          },
          "metadata": {
            "tags": [],
            "needs_background": "light"
          }
        }
      ]
    },
    {
      "cell_type": "code",
      "metadata": {
        "id": "C3U1Mrmufl4g"
      },
      "source": [
        "tracks_df.toPandas().to_csv('finaldf.csv')\n",
        "tracks_df = spark.read.format(\"csv\").option(\"header\", \"true\").load(\"finaldf.csv\")"
      ],
      "execution_count": 14,
      "outputs": []
    },
    {
      "cell_type": "code",
      "metadata": {
        "id": "Q1vhN3YUfl4g"
      },
      "source": [
        "from pyspark.sql.types import DoubleType\n",
        "from pyspark.sql.types import DateType\n",
        "\n",
        "tracks_df = tracks_df.withColumn(\"num_tracks_in_album\", tracks_df[\"num_tracks_in_album\"].cast(DoubleType()))\n",
        "tracks_df = tracks_df.withColumn(\"year_of_release\", tracks_df[\"year_of_release\"].cast(DateType()))\n",
        "tracks_df = tracks_df.withColumn(\"num_listens_per_album\", tracks_df[\"num_listens_per_album\"].cast(DoubleType()))\n",
        "tracks_df = tracks_df.withColumn(\"track_favorites\", tracks_df[\"track_favorites\"].cast(DoubleType()))\n",
        "tracks_df = tracks_df.withColumn(\"album_favourites\", tracks_df[\"album_favourites\"].cast(DoubleType()))\n",
        "tracks_df = tracks_df.withColumn(\"duration\", tracks_df[\"duration\"].cast(DoubleType()))\n",
        "tracks_df = tracks_df.withColumn(\"interest\", tracks_df[\"interest\"].cast(DoubleType()))\n",
        "tracks_df = tracks_df.withColumn(\"num_listens_per_song\", tracks_df[\"num_listens_per_song\"].cast(DoubleType()))\n",
        "tracks_df = tracks_df.withColumn(\"chroma_cens\", tracks_df[\"chroma_cens\"].cast(DoubleType()))\n",
        "tracks_df = tracks_df.withColumn(\"chroma_cqt\", tracks_df[\"chroma_cqt\"].cast(DoubleType()))\n",
        "tracks_df = tracks_df.withColumn(\"chroma_stft\", tracks_df[\"chroma_stft\"].cast(DoubleType()))\n",
        "tracks_df = tracks_df.withColumn(\"mfcc\", tracks_df[\"mfcc\"].cast(DoubleType()))\n",
        "tracks_df = tracks_df.withColumn(\"rmse\", tracks_df[\"rmse\"].cast(DoubleType()))\n",
        "tracks_df = tracks_df.withColumn(\"spectral_centroid\", tracks_df[\"spectral_centroid\"].cast(DoubleType()))\n",
        "tracks_df = tracks_df.withColumn(\"spectral_bandwidth\", tracks_df[\"spectral_bandwidth\"].cast(DoubleType()))\n",
        "tracks_df = tracks_df.withColumn(\"spectral_contrast\", tracks_df[\"spectral_contrast\"].cast(DoubleType()))\n",
        "tracks_df = tracks_df.withColumn(\"spectral_rolloff\", tracks_df[\"spectral_rolloff\"].cast(DoubleType()))\n",
        "tracks_df = tracks_df.withColumn(\"tonnetz\", tracks_df[\"tonnetz\"].cast(DoubleType()))\n",
        "tracks_df = tracks_df.withColumn(\"zcr\", tracks_df[\"zcr\"].cast(DoubleType()))"
      ],
      "execution_count": 15,
      "outputs": []
    },
    {
      "cell_type": "code",
      "metadata": {
        "id": "0Edhg373fl4g",
        "colab": {
          "base_uri": "https://localhost:8080/"
        },
        "outputId": "328dd33d-dced-4bc1-bae4-e28e24655ba5"
      },
      "source": [
        "features = list(tracks_df.columns)\n",
        "features"
      ],
      "execution_count": 16,
      "outputs": [
        {
          "output_type": "execute_result",
          "data": {
            "text/plain": [
              "['_c0',\n",
              " 'track_id',\n",
              " 'Album Title',\n",
              " 'Album_ID',\n",
              " 'Artist_ID',\n",
              " 'title',\n",
              " 'type',\n",
              " 'associated_labels',\n",
              " 'tags',\n",
              " 'composer',\n",
              " 'top_genres',\n",
              " 'genre_top',\n",
              " 'language_code',\n",
              " 'num_tracks_in_album',\n",
              " 'year_of_release',\n",
              " 'num_listens_per_album',\n",
              " 'track_favorites',\n",
              " 'album_favourites',\n",
              " 'duration',\n",
              " 'interest',\n",
              " 'num_listens_per_song',\n",
              " 'chroma_cens',\n",
              " 'chroma_cqt',\n",
              " 'chroma_stft',\n",
              " 'mfcc',\n",
              " 'rmse',\n",
              " 'spectral_centroid',\n",
              " 'spectral_bandwidth',\n",
              " 'spectral_contrast',\n",
              " 'spectral_rolloff',\n",
              " 'tonnetz',\n",
              " 'zcr']"
            ]
          },
          "metadata": {
            "tags": []
          },
          "execution_count": 16
        }
      ]
    },
    {
      "cell_type": "code",
      "metadata": {
        "id": "fJB3ibtIfl4g"
      },
      "source": [
        "features.remove('_c0')\n",
        "features.remove('track_id')\n",
        "features.remove('Album Title')\n",
        "features.remove('Album_ID')\n",
        "features.remove('Artist_ID')\n",
        "features.remove('tags')\n",
        "features.remove('composer')\n",
        "features.remove('genre_top')\n",
        "features.remove('title')\n",
        "features.remove('associated_labels')\n",
        "features.remove('type')"
      ],
      "execution_count": 17,
      "outputs": []
    },
    {
      "cell_type": "code",
      "metadata": {
        "id": "_-RyltlJfl4g"
      },
      "source": [
        "#This function will generate an Excel file call 'univariate_test' in the path specified aboy at 'path'\n",
        "\n",
        "\n",
        "def univariate(train):\n",
        "\n",
        "        '''\n",
        "\n",
        "            this function is for univariate analysis,\n",
        "\n",
        "        '''\n",
        "\n",
        "        #if \n",
        "\n",
        "        x = [x for x in train.columns if train[x].dtypes != 'object']\n",
        "\n",
        "        data = train[x]\n",
        "\n",
        "        #y = data.describe()\n",
        "\n",
        "#         evcount = target.value_counts()\n",
        "\n",
        "#         evratio = evcount[event]/target.count()\n",
        "\n",
        "        def Range(y):\n",
        "\n",
        "            mi = np.min(y)\n",
        "\n",
        "            ma = np.max(y)\n",
        "\n",
        "            rng = ma-mi\n",
        "\n",
        "            return rng\n",
        "\n",
        "        Rnge = data.apply(Range)\n",
        "\n",
        "        def iqr(y):\n",
        "\n",
        "            x25 = np.percentile(y,25)\n",
        "\n",
        "            x75 = np.percentile(y,75)\n",
        "\n",
        "            Iqr = x75 - x25\n",
        "\n",
        "            return Iqr\n",
        "\n",
        "           \n",
        "\n",
        "        iQr = data.apply(iqr)\n",
        "\n",
        "        def Skew(y):\n",
        "\n",
        "            d = skew(y)\n",
        "\n",
        "            return d\n",
        "\n",
        "        skewness = data.apply(Skew)\n",
        "\n",
        "        def Kurt(y):\n",
        "\n",
        "            d = kurtosis(y)\n",
        "\n",
        "            return d\n",
        "\n",
        "        Kurtosis = data.apply(Kurt)\n",
        "\n",
        "       \n",
        "\n",
        "        mean = data.apply(np.mean)\n",
        "\n",
        "        stdv = data.apply(np.std)\n",
        "\n",
        "        median = data.apply(np.median)\n",
        "\n",
        "        missingno = data.isnull().sum()\n",
        "\n",
        "        def outlier(y):\n",
        "\n",
        "            q1 = np.percentile(y,25)\n",
        "\n",
        "            q3 = np.percentile(y,75)\n",
        "\n",
        "            iqr = q3-q1\n",
        "\n",
        "            outlier = ((y > (q3 +1.5*iqr)) |(y <(q1-1.5*iqr ))).sum()\n",
        "\n",
        "            return outlier\n",
        "\n",
        "        Q1 = data.quantile(.25) \n",
        "        \n",
        "        p1=data.quantile(0.01)\n",
        "        p3=data.quantile(0.99)\n",
        "\n",
        "        Q3 = data.quantile(.75)\n",
        "\n",
        "        out = data.apply(outlier)\n",
        "         \n",
        "        count=train.shape[0]\n",
        "        \n",
        "        missingper=(missingno/count)*100\n",
        "\n",
        "        Frame = [Rnge,Q1,Q3,p1,p3,iQr,skewness,Kurtosis,mean,stdv,median,missingno,out,missingper]\n",
        "\n",
        "        unistat = pd.concat(Frame,axis =1)\n",
        "        \n",
        "        unistat.columns = ['Range','Q1','Q3','p1','p99','IQR','Skewness','Kurtosis','mean','stdv','median','MissingValue','outlier','Missing_perc']\n",
        "\n",
        "        l=[]\n",
        "        \n",
        "        for i in missingper:\n",
        "            if i>99:\n",
        "                l.append(1)\n",
        "            else:\n",
        "                l.append(0)\n",
        "                \n",
        "        unistat['Missing_Criteria']=l\n",
        "        \n",
        "        unistat=unistat[['MissingValue','Missing_perc','mean','median','stdv','p1','p99','Range','Q1','Q3','IQR','outlier','Skewness','Kurtosis']]\n",
        "        z = [x for x in train.columns if train[x].dtypes == 'object']\n",
        "\n",
        "        dat = train[z]\n",
        "\n",
        "        cat = {}\n",
        "\n",
        "        for i in z:\n",
        "\n",
        "            cat[i]= dat[i].value_counts()\n",
        "        \n",
        "        data={'catdist':cat , 'unistat':unistat}\n",
        "        k=0\n",
        "\n",
        "        engine = 'xlsxwriter'\n",
        "\n",
        "        writer = pd.ExcelWriter('univariates_test.xlsx',engine=engine)\n",
        "\n",
        "        uni=data['unistat']\n",
        "\n",
        "        k=len(uni)+1\n",
        "\n",
        "        uni.to_excel(writer,sheet_name='univariates',startrow=0,startcol=0,index=True)\n",
        "\n",
        "        for i in data['catdist']:\n",
        "            sum1=train.shape[0]\n",
        "            report_df = pd.DataFrame()\n",
        "            print(data['catdist'][i].index)\n",
        "            report_df[i] = list(data['catdist'][i].index)\n",
        "            report_df[\"Numbers\"] = data['catdist'][i].values\n",
        "            l1=[]\n",
        "            for j in data['catdist'][i]:\n",
        "                l1.append(j/sum1)\n",
        "            report_df[\"perc\"] = l1\n",
        "#              print('reprt_df is')\n",
        "#              print(report_df)\n",
        "            report_df.to_excel(writer,sheet_name='univariates',startrow=k+1,startcol=0,index=True)\n",
        "\n",
        "            k=len(data['catdist'][i])+2+k\n",
        "\n",
        "        writer.close()"
      ],
      "execution_count": 18,
      "outputs": []
    },
    {
      "cell_type": "code",
      "metadata": {
        "id": "mhBynNojZXfe",
        "colab": {
          "base_uri": "https://localhost:8080/"
        },
        "outputId": "392bc084-0217-491e-cfea-49c575bd7b9f"
      },
      "source": [
        "!pip install xlsxwriter"
      ],
      "execution_count": 19,
      "outputs": [
        {
          "output_type": "stream",
          "text": [
            "Requirement already satisfied: xlsxwriter in /usr/local/lib/python3.6/dist-packages (1.3.7)\n"
          ],
          "name": "stdout"
        }
      ]
    },
    {
      "cell_type": "code",
      "metadata": {
        "id": "ATcXiDAnfl4g",
        "colab": {
          "base_uri": "https://localhost:8080/"
        },
        "outputId": "47265870-56e0-437e-e330-e5b7863946b0"
      },
      "source": [
        "import pickle\n",
        "import pandas as pd\n",
        "import numpy as np\n",
        "from scipy.stats import kurtosis\n",
        "from scipy import stats\n",
        "from scipy.stats import skew\n",
        "import matplotlib.pyplot as plt\n",
        "import seaborn as sns\n",
        "import scipy as sc\n",
        "import json\n",
        "from scipy.stats import mstats\n",
        "from sklearn.model_selection import train_test_split\n",
        "from sklearn.feature_selection import VarianceThreshold\n",
        "from statsmodels.stats.outliers_influence import variance_inflation_factor\n",
        "from sklearn.model_selection import train_test_split\n",
        "univariate(tracks_df.select(features).toPandas())\n",
        "print('\\nPls View the Excel Sheet for the Univariates')"
      ],
      "execution_count": 20,
      "outputs": [
        {
          "output_type": "stream",
          "text": [
            "/usr/local/lib/python3.6/dist-packages/statsmodels/tools/_testing.py:19: FutureWarning: pandas.util.testing is deprecated. Use the functions in the public API at pandas.testing instead.\n",
            "  import pandas.util.testing as tm\n"
          ],
          "name": "stderr"
        },
        {
          "output_type": "stream",
          "text": [
            "Index(['Electronic', 'Others', 'Avant-Garde', 'Experimental', 'Folk',\n",
            "       'Hip-Hop', 'Noise', 'Lo-Fi', 'Rock', 'International', 'Classical',\n",
            "       'Jazz', 'Experimental Pop', 'Blues', 'Ambient Electronic', 'Indie-Rock',\n",
            "       'Field Recordings', 'Pop', ' 'the allentown ocean good times band'',\n",
            "       ' 'electronica']\"\"', ' 'dub']\"\"', '['ariel pinks haunted graffiti']',\n",
            "       ' 'curtains'', 'Garage', '600', '['nathan eckel']', '404', '366',\n",
            "       '['dubstep', 'trip-hop', 'trap', 'electronica', 'downtempo', 'nihilore']',\n",
            "       '778', '15', '150', '293', '['jonathan biss']', '362', '224',\n",
            "       'Beethoven', '84', '448', '416', '94', '274', '480',\n",
            "       '['intrahealth international']', '626', '330', '312', '481',\n",
            "       '['sagan']', '360', '624', '1855', '492'],\n",
            "      dtype='object')\n",
            "Index(['en', ' 'classwar karaoke'', 'fr', 'es', 'pt', 'de', 'it', '6', 'ru',\n",
            "       'tr',\n",
            "       ...\n",
            "       '1.11E-01', '2.66E+01', '1.86E+01', '1.21E+03', '2.20E+01', '1.51E+01',\n",
            "       '2.89E+03', '1363', '2.21E+01', '2.19E+03'],\n",
            "      dtype='object', length=559)\n",
            "Index([1900-01-01, 2012-01-01, 2013-01-01, 2011-01-01, 2010-01-01, 2014-01-01,\n",
            "       2015-01-01, 2009-01-01, 2016-01-01, 2008-01-01, 2007-01-01, 2005-01-01,\n",
            "       2006-01-01, 2017-01-01, 2004-01-01, 2003-01-01, 2002-01-01, 1999-01-01,\n",
            "       1998-01-01, 2001-01-01, 2000-01-01, 1996-01-01, 1995-01-01, 1993-01-01,\n",
            "       1997-01-01, 1982-01-01, 1985-01-01, 1988-01-01, 1994-01-01, 1987-01-01,\n",
            "       1981-01-01, 1990-01-01, 1968-01-01, 1974-01-01, 1991-01-01, 1980-01-01,\n",
            "       1986-01-01, 1979-01-01, 1984-01-01, 1978-01-01, 1976-01-01, 1911-01-01,\n",
            "       1913-01-01, 1967-01-01, 1965-01-01, 1905-01-01, 1989-01-01, 1907-01-01,\n",
            "       1930-01-01, 1912-01-01, 1909-01-01, 1969-01-01, 1902-01-01, 1916-01-01],\n",
            "      dtype='object')\n",
            "\n",
            "Pls View the Excel Sheet for the Univariates\n"
          ],
          "name": "stdout"
        }
      ]
    },
    {
      "cell_type": "code",
      "metadata": {
        "id": "dD0ajMiJc2RG"
      },
      "source": [
        ""
      ],
      "execution_count": 20,
      "outputs": []
    }
  ]
}