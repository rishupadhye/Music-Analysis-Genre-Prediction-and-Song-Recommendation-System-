{
  "nbformat": 4,
  "nbformat_minor": 0,
  "metadata": {
    "colab": {
      "name": "IST718_Fall2020ModelCodes (1).ipynb",
      "provenance": [],
      "collapsed_sections": []
    },
    "kernelspec": {
      "name": "python3",
      "display_name": "Python 3"
    }
  },
  "cells": [
    {
      "cell_type": "code",
      "metadata": {
        "colab": {
          "base_uri": "https://localhost:8080/"
        },
        "id": "pV3rOVUkQkcm",
        "outputId": "082414b1-cc35-462f-d75c-b5e4b762d7d0"
      },
      "source": [
        "%%bash\n",
        "# Do not change or modify this file\n",
        "# Need to install pyspark\n",
        "# if pyspark is already installed, will print a message indicating pyspark already isntalled\n",
        "pip install pyspark\n",
        "\n",
        "# Download the data files from github\n",
        "# If the data file does not exist in the colab environment\n",
        "if [[ ! -f ./Final_Model_Dataset.csv ]]; then \n",
        "      wget https://raw.githubusercontent.com/ssadagop97/IST718-Fall2020/main/Final_Model_Dataset.csv\n",
        "   # download the data file from github and save it in this colab environment instance\n",
        "fi\n",
        "ls Final_Model_Dataset.csv"
      ],
      "execution_count": 1,
      "outputs": [
        {
          "output_type": "stream",
          "text": [
            "Collecting pyspark\n",
            "  Downloading https://files.pythonhosted.org/packages/f0/26/198fc8c0b98580f617cb03cb298c6056587b8f0447e20fa40c5b634ced77/pyspark-3.0.1.tar.gz (204.2MB)\n",
            "Collecting py4j==0.10.9\n",
            "  Downloading https://files.pythonhosted.org/packages/9e/b6/6a4fb90cd235dc8e265a6a2067f2a2c99f0d91787f06aca4bcf7c23f3f80/py4j-0.10.9-py2.py3-none-any.whl (198kB)\n",
            "Building wheels for collected packages: pyspark\n",
            "  Building wheel for pyspark (setup.py): started\n",
            "  Building wheel for pyspark (setup.py): finished with status 'done'\n",
            "  Created wheel for pyspark: filename=pyspark-3.0.1-py2.py3-none-any.whl size=204612243 sha256=fe13fcd0643ccd288718e8e8a96b0e78341adc76099213e3f89b6dbaaccb8b6b\n",
            "  Stored in directory: /root/.cache/pip/wheels/5e/bd/07/031766ca628adec8435bb40f0bd83bb676ce65ff4007f8e73f\n",
            "Successfully built pyspark\n",
            "Installing collected packages: py4j, pyspark\n",
            "Successfully installed py4j-0.10.9 pyspark-3.0.1\n",
            "Final_Model_Dataset.csv\n"
          ],
          "name": "stdout"
        },
        {
          "output_type": "stream",
          "text": [
            "--2020-11-29 13:51:15--  https://raw.githubusercontent.com/ssadagop97/IST718-Fall2020/main/Final_Model_Dataset.csv\n",
            "Resolving raw.githubusercontent.com (raw.githubusercontent.com)... 151.101.0.133, 151.101.64.133, 151.101.128.133, ...\n",
            "Connecting to raw.githubusercontent.com (raw.githubusercontent.com)|151.101.0.133|:443... connected.\n",
            "HTTP request sent, awaiting response... 200 OK\n",
            "Length: 1857901 (1.8M) [text/plain]\n",
            "Saving to: ‘Final_Model_Dataset.csv’\n",
            "\n",
            "     0K .......... .......... .......... .......... ..........  2% 4.09M 0s\n",
            "    50K .......... .......... .......... .......... ..........  5% 10.3M 0s\n",
            "   100K .......... .......... .......... .......... ..........  8% 5.01M 0s\n",
            "   150K .......... .......... .......... .......... .......... 11% 16.3M 0s\n",
            "   200K .......... .......... .......... .......... .......... 13% 7.02M 0s\n",
            "   250K .......... .......... .......... .......... .......... 16% 34.8M 0s\n",
            "   300K .......... .......... .......... .......... .......... 19% 25.5M 0s\n",
            "   350K .......... .......... .......... .......... .......... 22% 34.9M 0s\n",
            "   400K .......... .......... .......... .......... .......... 24% 30.9M 0s\n",
            "   450K .......... .......... .......... .......... .......... 27% 34.9M 0s\n",
            "   500K .......... .......... .......... .......... .......... 30% 8.76M 0s\n",
            "   550K .......... .......... .......... .......... .......... 33% 33.2M 0s\n",
            "   600K .......... .......... .......... .......... .......... 35% 29.8M 0s\n",
            "   650K .......... .......... .......... .......... .......... 38% 20.6M 0s\n",
            "   700K .......... .......... .......... .......... .......... 41% 20.7M 0s\n",
            "   750K .......... .......... .......... .......... .......... 44% 46.3M 0s\n",
            "   800K .......... .......... .......... .......... .......... 46% 12.6M 0s\n",
            "   850K .......... .......... .......... .......... .......... 49% 44.2M 0s\n",
            "   900K .......... .......... .......... .......... .......... 52% 19.0M 0s\n",
            "   950K .......... .......... .......... .......... .......... 55% 57.7M 0s\n",
            "  1000K .......... .......... .......... .......... .......... 57% 19.5M 0s\n",
            "  1050K .......... .......... .......... .......... .......... 60% 20.9M 0s\n",
            "  1100K .......... .......... .......... .......... .......... 63% 16.4M 0s\n",
            "  1150K .......... .......... .......... .......... .......... 66% 29.8M 0s\n",
            "  1200K .......... .......... .......... .......... .......... 68% 21.6M 0s\n",
            "  1250K .......... .......... .......... .......... .......... 71% 46.9M 0s\n",
            "  1300K .......... .......... .......... .......... .......... 74% 47.8M 0s\n",
            "  1350K .......... .......... .......... .......... .......... 77% 22.6M 0s\n",
            "  1400K .......... .......... .......... .......... .......... 79% 11.4M 0s\n",
            "  1450K .......... .......... .......... .......... .......... 82% 97.9M 0s\n",
            "  1500K .......... .......... .......... .......... .......... 85% 23.3M 0s\n",
            "  1550K .......... .......... .......... .......... .......... 88% 22.5M 0s\n",
            "  1600K .......... .......... .......... .......... .......... 90% 49.6M 0s\n",
            "  1650K .......... .......... .......... .......... .......... 93% 24.8M 0s\n",
            "  1700K .......... .......... .......... .......... .......... 96% 32.9M 0s\n",
            "  1750K .......... .......... .......... .......... .......... 99% 14.9M 0s\n",
            "  1800K .......... ....                                       100%  163M=0.1s\n",
            "\n",
            "2020-11-29 13:51:16 (17.8 MB/s) - ‘Final_Model_Dataset.csv’ saved [1857901/1857901]\n",
            "\n"
          ],
          "name": "stderr"
        }
      ]
    },
    {
      "cell_type": "code",
      "metadata": {
        "id": "QDpl6ahwRtcc"
      },
      "source": [
        "from pyspark.sql import SparkSession\n",
        "from pyspark.sql import SQLContext\n",
        "from pyspark.sql.functions import lower, col\n",
        "MAX_MEMORY = \"12g\"\n",
        "spark = SparkSession \\\n",
        "  .builder \\\n",
        "  .master(\"local[*]\")\\\n",
        "  .config(\"spark.memory.fraction\", 0.8) \\\n",
        "  .config(\"spark.executor.memory\", MAX_MEMORY) \\\n",
        "  .config(\"spark.driver.memory\", MAX_MEMORY)\\\n",
        "  .config(\"spark.memory.offHeap.enabled\",'true')\\\n",
        "  .config(\"spark.memory.offHeap.size\",MAX_MEMORY)\\\n",
        "  .getOrCreate()\n",
        "\n",
        "sc = spark.sparkContext\n",
        "sqlContext = SQLContext(sc)\n",
        "genre_class_df = spark.read.format(\"csv\").option(\"header\", \"true\").load(\"Final_Model_Dataset.csv\")"
      ],
      "execution_count": 2,
      "outputs": []
    },
    {
      "cell_type": "markdown",
      "metadata": {
        "id": "83X7zYF0VEEK"
      },
      "source": [
        "# Libraries"
      ]
    },
    {
      "cell_type": "code",
      "metadata": {
        "id": "18OApCi3U9Iw"
      },
      "source": [
        "import pandas as pd\n",
        "import matplotlib.pyplot as plt\n",
        "from pyspark.sql import functions as fn, Row \n",
        "from pyspark.mllib.evaluation import BinaryClassificationMetrics, MulticlassMetrics\n",
        "from pyspark.ml.tuning import ParamGridBuilder\n",
        "from pyspark.ml.feature import VectorAssembler\n",
        "from pyspark.ml.feature import StandardScaler\n",
        "from pyspark.ml.evaluation import RegressionEvaluator\n",
        "from pyspark.ml.evaluation import BinaryClassificationEvaluator, MulticlassClassificationEvaluator\n",
        "from pyspark.ml.classification import RandomForestClassifier\n",
        "from pyspark.ml.classification import NaiveBayes\n",
        "from pyspark.ml.classification import MultilayerPerceptronClassifier\n",
        "from pyspark.ml.classification import LogisticRegression\n",
        "from pyspark.ml import feature, regression, evaluation, Pipeline"
      ],
      "execution_count": 3,
      "outputs": []
    },
    {
      "cell_type": "markdown",
      "metadata": {
        "id": "Ls_bjKPNVKtS"
      },
      "source": [
        "# Feature Extraction & Data Split\n"
      ]
    },
    {
      "cell_type": "code",
      "metadata": {
        "id": "VILXdBsuRwZA"
      },
      "source": [
        "#Below features were selected using Random Forest Feature Importance\n",
        "#imp_cols=['interest','spectral_contrast','num_tracks_in_album','chroma_stft','duration','num_listens_per_album','rmse','track_favorites','mfcc']\n",
        "imp_cols=['spectral_rolloff', 'rmse', 'chroma_stft', 'spectral_centroid','spectral_contrast', 'spectral_bandwidth', 'zcr','track_favorites', 'num_listens_per_album', 'duration','num_listens_per_song']\n",
        "\n",
        "for col_name in imp_cols:\n",
        "    genre_class_df = genre_class_df.withColumn(col_name, col(col_name).cast('float'))\n",
        "\n",
        "feature_engineering_pipe = Pipeline(stages=[\n",
        "  feature.StringIndexer(inputCol='top_genres', handleInvalid='skip',outputCol = \"Y_top_genre\")\n",
        "]).fit(genre_class_df)\n",
        "\n",
        "genreclass_df=feature_engineering_pipe.transform(genre_class_df)\n",
        "\n",
        "columns_to_drop = ['top_genres']\n",
        "genreclass_df = genreclass_df.drop(*columns_to_drop)\n",
        "\n",
        "training_df, validation_df,testing_df = genreclass_df.randomSplit([0.7, 0.1, 0.2], seed=0)"
      ],
      "execution_count": 4,
      "outputs": []
    },
    {
      "cell_type": "markdown",
      "metadata": {
        "id": "jeBj8at3SudD"
      },
      "source": [
        "# Logistic Regression"
      ]
    },
    {
      "cell_type": "code",
      "metadata": {
        "id": "EPC2BgCcR0Wb",
        "colab": {
          "base_uri": "https://localhost:8080/"
        },
        "outputId": "0f4fd6cb-6366-4ab7-8d72-ba4f14afbc7b"
      },
      "source": [
        "from pyspark.ml.feature import VectorAssembler\n",
        "from pyspark.ml.feature import StandardScaler\n",
        "from pyspark.ml.classification import LogisticRegression\n",
        "VectorAssembler=VectorAssembler(inputCols=['spectral_rolloff', 'rmse', 'chroma_stft', 'spectral_centroid','spectral_contrast', 'spectral_bandwidth', 'zcr','track_favorites', 'num_listens_per_album', 'duration','num_listens_per_song'], outputCol = 'num_features')\n",
        "StandardScaler=StandardScaler(withStd=True, inputCol='num_features', outputCol='std_features')\n",
        "LogisticRegression = LogisticRegression(labelCol='Y_top_genre',featuresCol='std_features',maxIter=100, regParam=0.0, elasticNetParam=0.0, family=\"multinomial\")\n",
        "\n",
        "topgenre_lrbase_pipe = Pipeline(stages=[VectorAssembler,StandardScaler, LogisticRegression]).fit(training_df)\n",
        "\n",
        "LRBaseSummary = topgenre_lrbase_pipe.stages[-1].summary\n",
        "\n",
        "#Trained Base Model Evaluation\n",
        "LR_baseTR_acc = LRBaseSummary.accuracy\n",
        "LR_FPRBaseTr = LRBaseSummary.weightedFalsePositiveRate\n",
        "LR_TPRBaseTr = LRBaseSummary.weightedTruePositiveRate\n",
        "LR_fMeasureBaseTR = LRBaseSummary.weightedFMeasure()\n",
        "LR_PrecisionBaseTR = LRBaseSummary.weightedPrecision\n",
        "LR_RecallBaseTR = LRBaseSummary.weightedRecall\n",
        "print(\"*********************Logistic Regression BASE Model Training Results*********************************\")\n",
        "print(\"Accuracy: %s\\nFPR: %s\\nTPR: %s\\nF-measure: %s\\nPrecision: %s\\nRecall: %s\"\n",
        "      % (LR_baseTR_acc, LR_FPRBaseTr, LR_TPRBaseTr, LR_fMeasureBaseTR, LR_PrecisionBaseTR, LR_RecallBaseTR))\n",
        "\n",
        "evaluatorMulti = MulticlassClassificationEvaluator(labelCol=\"Y_top_genre\", predictionCol=\"prediction\")\n",
        "evaluator = BinaryClassificationEvaluator(labelCol=\"Y_top_genre\", rawPredictionCol=\"prediction\", metricName='areaUnderROC')\n",
        "\n",
        "predictionAndTarget = topgenre_lrbase_pipe.transform(testing_df).select(\"Y_top_genre\", \"prediction\")\n",
        "\n",
        "# Test BaseModel Evaluation\n",
        "LR_baseTE_acc = evaluatorMulti.evaluate(predictionAndTarget, {evaluatorMulti.metricName: \"accuracy\"})\n",
        "LR_fMeasureBaseTE = evaluatorMulti.evaluate(predictionAndTarget, {evaluatorMulti.metricName: \"f1\"})\n",
        "LR_PrecisionBaseTE = evaluatorMulti.evaluate(predictionAndTarget, {evaluatorMulti.metricName: \"weightedPrecision\"})\n",
        "LR_RecallBaseTE = evaluatorMulti.evaluate(predictionAndTarget, {evaluatorMulti.metricName: \"weightedRecall\"})\n",
        "#LR_Base_AUC = evaluator.evaluate(predictionAndTarget)\n",
        "\n",
        "print(\"*********************Logistic Regression BASE Model Test Results*********************************\")\n",
        "print(\"Accuracy: %s\\nf1: %s\\nPrecision: %s\\nRecall: %s\"\n",
        "      % (LR_baseTE_acc, LR_fMeasureBaseTE, LR_PrecisionBaseTE, LR_RecallBaseTE))\n",
        "#print(\"Area Under Curve:\", LR_Base_AUC)"
      ],
      "execution_count": 5,
      "outputs": [
        {
          "output_type": "stream",
          "text": [
            "*********************Logistic Regression BASE Model Training Results*********************************\n",
            "Accuracy: 0.5013820290905795\n",
            "FPR: 0.2496056620118069\n",
            "TPR: 0.5013820290905795\n",
            "F-measure: 0.4958713203618008\n",
            "Precision: 0.4952896473427185\n",
            "Recall: 0.5013820290905795\n",
            "*********************Logistic Regression BASE Model Test Results*********************************\n",
            "Accuracy: 0.5065057218999843\n",
            "f1: 0.5016627231602454\n",
            "Precision: 0.5008926167044715\n",
            "Recall: 0.5065057218999843\n"
          ],
          "name": "stdout"
        }
      ]
    },
    {
      "cell_type": "code",
      "metadata": {
        "id": "QgOXOsHFTCoa"
      },
      "source": [
        "enable_grid = False #Change to True to perform Grid Search\n",
        "if enable_grid:\n",
        "  from pyspark.ml.classification import LogisticRegression\n",
        "  LogisticRegression_grid=LogisticRegression().\\\n",
        "  setLabelCol('Y_top_genre').\\\n",
        "  setFeaturesCol('std_features').\\\n",
        "  setRegParam(0.0).\\\n",
        "  setMaxIter(100).\\\n",
        "  setElasticNetParam(0.).setFamily('multinomial')\n",
        "    \n",
        "  top_genre_pipe_grid = Pipeline(stages=[VectorAssembler,StandardScaler, LogisticRegression_grid])\n",
        "  grid = ParamGridBuilder().\\\n",
        "  addGrid(LogisticRegression_grid.regParam, [0, 0.01, 0.05, 0.1, 0.5, 1]).\\\n",
        "  addGrid(LogisticRegression_grid.elasticNetParam, [0.0, 0.1, 0.5, 0.8, 1]).\\\n",
        "  build()\n",
        "\n",
        "  all_models = []\n",
        "  for j in range(len(grid)):\n",
        "      print(\"Fitting model {}\".format(j+1))\n",
        "      model = top_genre_pipe_grid.fit(training_df, grid[j])\n",
        "      all_models.append(model)\n",
        "\n",
        "  accuracies = [m.\\\n",
        "  transform(validation_df).\\\n",
        "  select(fn.avg(fn.expr('float(Y_top_genre = prediction)')).alias('accuracy')).\\\n",
        "  first().\\\n",
        "  accuracy for m in all_models]\n",
        "\n",
        "  import numpy as np\n",
        "\n",
        "  best_model_idx = np.argmax(accuracies)\n",
        "  print(\"best model index =\", best_model_idx)\n",
        "  print(\"Best Model\",grid[best_model_idx])\n",
        "  \n",
        "  best_model = all_models[best_model_idx]\n",
        "  best_model.\\\n",
        "  transform(testing_df).\\\n",
        "  select(fn.avg(fn.expr('float(Y_top_genre = prediction)')).alias('accuracy')).\\\n",
        "  show()\n",
        "  pass"
      ],
      "execution_count": 6,
      "outputs": []
    },
    {
      "cell_type": "code",
      "metadata": {
        "id": "BxBqk15BTFfM",
        "colab": {
          "base_uri": "https://localhost:8080/"
        },
        "outputId": "5a167cab-b9cb-46aa-a974-4f74120ddb65"
      },
      "source": [
        "from pyspark.ml.classification import LogisticRegression\n",
        "from pyspark.ml.feature import VectorAssembler\n",
        "from pyspark.ml.feature import StandardScaler\n",
        "from pyspark.ml.classification import LogisticRegression\n",
        "from pyspark.ml import feature, regression, evaluation, Pipeline\n",
        "\n",
        "#Hyperparameters from Cross Validation\n",
        "alpha = 0.1\n",
        "lambda_par = 0.01\n",
        "VectorAssembler=VectorAssembler(inputCols=['spectral_rolloff', 'rmse', 'chroma_stft', 'spectral_centroid','spectral_contrast', 'spectral_bandwidth', 'zcr','track_favorites', 'num_listens_per_album', 'duration','num_listens_per_song'], outputCol = 'num_features')\n",
        "StandardScaler=StandardScaler(withStd=True, inputCol='num_features', outputCol='std_features')\n",
        "LogisticRegression = LogisticRegression(labelCol='Y_top_genre',featuresCol='std_features',maxIter=100, regParam=lambda_par, elasticNetParam=lambda_par, family=\"multinomial\")\n",
        "\n",
        "topgenre_lrfinal_pipe = Pipeline(stages=[VectorAssembler,StandardScaler, LogisticRegression]).fit(training_df)\n",
        "\n",
        "LRFinalSummary = topgenre_lrfinal_pipe.stages[-1].summary\n",
        "\n",
        "#Trained Final Model Evaluation\n",
        "LRTR_accuracy = LRFinalSummary.accuracy\n",
        "LRTR_FPR = LRFinalSummary.weightedFalsePositiveRate\n",
        "LRTR_TPR = LRFinalSummary.weightedTruePositiveRate\n",
        "LRTR_FMeasure = LRFinalSummary.weightedFMeasure()\n",
        "LRTR_Precision = LRFinalSummary.weightedPrecision\n",
        "LRTR_Recall = LRFinalSummary.weightedRecall\n",
        "print(\"*********************Logistic Regression Final Model Training Results*********************************\")\n",
        "print(\"Training Accuracy: %s\\nFPR: %s\\nTPR: %s\\nF-measure: %s\\nPrecision: %s\\nRecall: %s\"\n",
        "      % (LRTR_accuracy, LRTR_FPR, LRTR_TPR, LRTR_FMeasure, LRTR_Precision, LRTR_Recall))\n",
        "\n",
        "evaluatorMulti = MulticlassClassificationEvaluator(labelCol=\"Y_top_genre\", predictionCol=\"prediction\")\n",
        "evaluator = BinaryClassificationEvaluator(labelCol=\"Y_top_genre\", rawPredictionCol=\"prediction\", metricName='areaUnderROC')\n",
        "\n",
        "predictionAndTarget = topgenre_lrfinal_pipe.transform(testing_df).select(\"Y_top_genre\", \"prediction\")\n",
        "\n",
        "# Test Final Model Evaluation\n",
        "LRTE_accuracy = evaluatorMulti.evaluate(predictionAndTarget, {evaluatorMulti.metricName: \"accuracy\"})\n",
        "LRTE_FMeasure = evaluatorMulti.evaluate(predictionAndTarget, {evaluatorMulti.metricName: \"f1\"})\n",
        "LRTE_Precision = evaluatorMulti.evaluate(predictionAndTarget, {evaluatorMulti.metricName: \"weightedPrecision\"})\n",
        "LRTE_Recall = evaluatorMulti.evaluate(predictionAndTarget, {evaluatorMulti.metricName: \"weightedRecall\"})\n",
        "#LR_Final_AUC = evaluator.evaluate(predictionAndTarget)\n",
        "print(\"*********************Logistic Regression Final Model Test Results*********************************\")\n",
        "print(\"Test Accuracy: %s\\nf1: %s\\nPrecision: %s\\nRecall: %s\"\n",
        "      % (LRTE_accuracy, LRTE_FMeasure, LRTE_Precision, LRTE_Recall))\n",
        "#print(\"Area Under Curve:\", LR_Final_AUC)"
      ],
      "execution_count": 7,
      "outputs": [
        {
          "output_type": "stream",
          "text": [
            "*********************Logistic Regression Final Model Training Results*********************************\n",
            "Training Accuracy: 0.5009742172277856\n",
            "FPR: 0.24984800576218513\n",
            "TPR: 0.5009742172277856\n",
            "F-measure: 0.49508724914008095\n",
            "Precision: 0.49463105992872936\n",
            "Recall: 0.5009742172277856\n",
            "*********************Logistic Regression Final Model Test Results*********************************\n",
            "Test Accuracy: 0.5071327794325129\n",
            "f1: 0.5021853852683762\n",
            "Precision: 0.5015849089419002\n",
            "Recall: 0.5071327794325129\n"
          ],
          "name": "stdout"
        }
      ]
    },
    {
      "cell_type": "markdown",
      "metadata": {
        "id": "gBuPzTZUTWdy"
      },
      "source": [
        "# Naive Bayes"
      ]
    },
    {
      "cell_type": "code",
      "metadata": {
        "id": "hqbH6EraTa-Q",
        "colab": {
          "base_uri": "https://localhost:8080/"
        },
        "outputId": "2a739d07-a53a-4e3c-daa0-24faafb6eaab"
      },
      "source": [
        "from pyspark.ml.feature import VectorAssembler\n",
        "from pyspark.ml.feature import StandardScaler\n",
        "from pyspark.ml.classification import LogisticRegression\n",
        "from pyspark.ml import feature, regression, evaluation, Pipeline\n",
        "\n",
        "VectorAssembler=VectorAssembler(inputCols=['spectral_rolloff', 'rmse', 'chroma_stft', 'spectral_centroid','spectral_contrast', 'spectral_bandwidth', 'zcr','track_favorites', 'num_listens_per_album', 'duration','num_listens_per_song'], outputCol = 'num_features')\n",
        "StandardScaler=StandardScaler(withStd=False, inputCol='num_features', outputCol='std_features')\n",
        "NBBasemodel=NaiveBayes().setLabelCol('Y_top_genre').setFeaturesCol('std_features')\n",
        "topgenre_nbfinal_pipe = Pipeline(stages=[VectorAssembler,StandardScaler, NBBasemodel]).fit(training_df)\n",
        "\n",
        "#NBFinalSummary = topgenre_nbfinal_pipe.stages[-1].summary\n",
        "#\n",
        "##Trained Final Model Evaluation\n",
        "#NBTR_accuracy = NBFinalSummary.accuracy\n",
        "#NBTR_FPR = NBFinalSummary.weightedFalsePositiveRate\n",
        "#NBTR_TPR = NBFinalSummary.weightedTruePositiveRate\n",
        "#NBTR_FMeasure = NBFinalSummary.weightedFMeasure()\n",
        "#NBTR_Precision = NBFinalSummary.weightedPrecision\n",
        "#NBTR_Recall = NBFinalSummary.weightedRecall\n",
        "#print(\"*********************Naive Bayes Final Model Training Results*********************************\")\n",
        "#print(\"Training Accuracy: %s\\nFPR: %s\\nTPR: %s\\nF-measure: %s\\nPrecision: %s\\nRecall: %s\"\n",
        "#      % (NBTR_accuracy, NBTR_FPR, NBTR_TPR, NBTR_FMeasure, NBTR_Precision, NBTR_Recall))\n",
        "#\n",
        "evaluatorMulti = MulticlassClassificationEvaluator(labelCol=\"Y_top_genre\", predictionCol=\"prediction\")\n",
        "evaluator = BinaryClassificationEvaluator(labelCol=\"Y_top_genre\", rawPredictionCol=\"prediction\", metricName='areaUnderROC')\n",
        "\n",
        "predictionAndTarget = topgenre_nbfinal_pipe.transform(testing_df).select(\"Y_top_genre\", \"prediction\")\n",
        "\n",
        "# Test Final Model Evaluation\n",
        "NBTE_accuracy = evaluatorMulti.evaluate(predictionAndTarget, {evaluatorMulti.metricName: \"accuracy\"})\n",
        "NBTE_FMeasure = evaluatorMulti.evaluate(predictionAndTarget, {evaluatorMulti.metricName: \"f1\"})\n",
        "NBTE_Precision = evaluatorMulti.evaluate(predictionAndTarget, {evaluatorMulti.metricName: \"weightedPrecision\"})\n",
        "NBTE_Recall = evaluatorMulti.evaluate(predictionAndTarget, {evaluatorMulti.metricName: \"weightedRecall\"})\n",
        "#NB_Final_AUC = evaluator.evaluate(predictionAndTarget)\n",
        "print(\"*********************Naive Bayes Final Model Test Results*********************************\")\n",
        "print(\"Test Accuracy: %s\\nf1: %s\\nPrecision: %s\\nRecall: %s\"\n",
        "      % (NBTE_accuracy, NBTE_FMeasure, NBTE_Precision, NBTE_Recall))\n",
        "#print(\"Area Under Curve:\", NB_Final_AUC)"
      ],
      "execution_count": 8,
      "outputs": [
        {
          "output_type": "stream",
          "text": [
            "*********************Naive Bayes Final Model Test Results*********************************\n",
            "Test Accuracy: 0.4847154726446151\n",
            "f1: 0.47453797349937316\n",
            "Precision: 0.4767692516804818\n",
            "Recall: 0.4847154726446151\n"
          ],
          "name": "stdout"
        }
      ]
    },
    {
      "cell_type": "markdown",
      "metadata": {
        "id": "jFYfjkq0T1ES"
      },
      "source": [
        "# Neural Networks"
      ]
    },
    {
      "cell_type": "code",
      "metadata": {
        "id": "uBSNRKVUT479",
        "colab": {
          "base_uri": "https://localhost:8080/"
        },
        "outputId": "1e2bc489-28e7-409c-b7d0-015b1f8d5d08"
      },
      "source": [
        "from pyspark.ml.feature import VectorAssembler\n",
        "from pyspark.ml.feature import StandardScaler\n",
        "\n",
        "VectorAssembler=VectorAssembler(inputCols=['spectral_rolloff', 'rmse', 'chroma_stft', 'spectral_centroid','spectral_contrast', 'spectral_bandwidth', 'zcr','track_favorites', 'num_listens_per_album', 'duration','num_listens_per_song'], outputCol = 'num_features')\n",
        "StandardScaler=StandardScaler(withStd=True, inputCol='num_features', outputCol='std_features')\n",
        "\n",
        "#Defined layers based on the input features\n",
        "#First layer consists of 11 neurons as we have 11 features\n",
        "#Final layer has 3 neurons as we have 3 classes for classification\n",
        "layers = [11,22,9,3]\n",
        "\n",
        "# create the trainer and set its parameters\n",
        "NeuralBaseModel = MultilayerPerceptronClassifier(labelCol=\"Y_top_genre\", featuresCol=\"std_features\", maxIter=100, layers=layers, blockSize=32, seed=10 ,tol=0.00000001,stepSize=0.1)\n",
        "topgenre_NNbase_pipe = Pipeline(stages=[VectorAssembler, StandardScaler, NeuralBaseModel]).fit(training_df)\n",
        "\n",
        "#NNBaseSummary = topgenre_NNbase_pipe.stages[-1].summary\n",
        "#\n",
        "##Trained Base Model Evaluation\n",
        "#NNBaseTR_accuracy = NNBaseSummary.accuracy\n",
        "#NNBaseTR_FPR = NNBaseSummary.weightedFalsePositiveRate\n",
        "#NNBaseTR_TPR = NNBaseSummary.weightedTruePositiveRate\n",
        "#NNBaseTR_FMeasure = NNBaseSummary.weightedFMeasure()\n",
        "#NNBaseTR_Precision = NNBaseSummary.weightedPrecision\n",
        "#NNBaseTR_Recall = NNBaseSummary.weightedRecall\n",
        "#print(\"*********************Training Results*********************************\")\n",
        "#print(\"Training Accuracy: %s\\nFPR: %s\\nTPR: %s\\nF-measure: %s\\nPrecision: %s\\nRecall: %s\"\n",
        "#      % (NNBaseTR_accuracy, NNBaseTR_FPR, NNBaseTR_TPR, NNBaseTR_FMeasure, NNBaseTR_Precision, NNBaseTR_Recall))\n",
        "\n",
        "evaluatorMulti = MulticlassClassificationEvaluator(labelCol=\"Y_top_genre\", predictionCol=\"prediction\")\n",
        "evaluator = BinaryClassificationEvaluator(labelCol=\"Y_top_genre\", rawPredictionCol=\"prediction\", metricName='areaUnderROC')\n",
        "\n",
        "predictionAndTarget = topgenre_NNbase_pipe.transform(testing_df).select(\"Y_top_genre\", \"prediction\")\n",
        "\n",
        "# Test Base Model Evaluation\n",
        "NNBaseTE_accuracy = evaluatorMulti.evaluate(predictionAndTarget, {evaluatorMulti.metricName: \"accuracy\"})\n",
        "NNBaseTE_FMeasure = evaluatorMulti.evaluate(predictionAndTarget, {evaluatorMulti.metricName: \"f1\"})\n",
        "NNBaseTE_Precision = evaluatorMulti.evaluate(predictionAndTarget, {evaluatorMulti.metricName: \"weightedPrecision\"})\n",
        "NNBaseTE_Recall = evaluatorMulti.evaluate(predictionAndTarget, {evaluatorMulti.metricName: \"weightedRecall\"})\n",
        "#NN_Base_AUC = evaluator.evaluate(predictionAndTarget)\n",
        "print(\"*********************Neural Networks Base Model Test Results*********************************\")\n",
        "print(\"Test Accuracy: %s\\nf1: %s\\nPrecision: %s\\nRecall: %s\"\n",
        "      % (NNBaseTE_accuracy, NNBaseTE_FMeasure, NNBaseTE_Precision, NNBaseTE_Recall))\n",
        "#print(\"Area Under Curve:\", NN_Base_AUC)"
      ],
      "execution_count": 9,
      "outputs": [
        {
          "output_type": "stream",
          "text": [
            "*********************Neural Networks Base Model Test Results*********************************\n",
            "Test Accuracy: 0.5292365574541464\n",
            "f1: 0.527265823838639\n",
            "Precision: 0.5275082733892166\n",
            "Recall: 0.5292365574541464\n"
          ],
          "name": "stdout"
        }
      ]
    },
    {
      "cell_type": "code",
      "metadata": {
        "id": "qYAkeSW4T5uj"
      },
      "source": [
        "enable_grid = False #Change to True to perform Grid Search which will look for 5*4*5*5 = 500 models\n",
        "if enable_grid:\n",
        "  from pyspark.ml.classification import MultilayerPerceptronClassifier\n",
        "  #Layers combinations\n",
        "  l1 = [11,22,9,3]\n",
        "  l2 = [11,9,3]\n",
        "  l3 = [11,9,6,3]\n",
        "  l4 = [11,3,3]\n",
        "  l5 = [11,3]\n",
        "  NeuralBaseModel = MultilayerPerceptronClassifier(labelCol=\"Y_top_genre\", featuresCol=\"std_features\", maxIter=100, layers=l1, blockSize=32, seed=10 ,tol=0.00000001,stepSize=0.1)\n",
        "  top_genre_pipe_grid = Pipeline(stages=[VectorAssembler, StandardScaler, NeuralBaseModel])\n",
        "  grid = ParamGridBuilder().\\\n",
        "  addGrid(NeuralBaseModel.blockSize, [16, 32, 64, 128,256]).\\\n",
        "  addGrid(NeuralBaseModel.tol, [0.000001,0.0000001,0.00000001,0.000000001]).\\\n",
        "  addGrid(NeuralBaseModel.stepSize, [0.001, 0.01, 0.1, 0.2, 0.3]).\\\n",
        "  addGrid(NeuralBaseModel.layers, [l1,l2,l3,l4,l5]).\\\n",
        "  build()\n",
        "\n",
        "  all_models = []\n",
        "  for j in range(len(grid)):\n",
        "      print(\"Fitting model {}\".format(j+1))\n",
        "      model = top_genre_pipe_grid.fit(training_df, grid[j])\n",
        "      all_models.append(model)\n",
        "\n",
        "  accuracies = [m.\\\n",
        "  transform(validation_df).\\\n",
        "  select(fn.avg(fn.expr('float(Y_top_genre = prediction)')).alias('accuracy')).\\\n",
        "  first().\\\n",
        "  accuracy for m in all_models]\n",
        "\n",
        "  import numpy as np\n",
        "\n",
        "  best_model_idx = np.argmax(accuracies)\n",
        "  print(\"best model index =\", best_model_idx)\n",
        "  print(\"Best Model\",grid[best_model_idx])\n",
        "  \n",
        "  best_model = all_models[best_model_idx]\n",
        "  best_model.\\\n",
        "  transform(testing_df).\\\n",
        "  select(fn.avg(fn.expr('float(Y_top_genre = prediction)')).alias('accuracy')).\\\n",
        "  show()\n",
        "  pass"
      ],
      "execution_count": 10,
      "outputs": []
    },
    {
      "cell_type": "code",
      "metadata": {
        "id": "SEM83r_DT7dt",
        "colab": {
          "base_uri": "https://localhost:8080/"
        },
        "outputId": "03591fba-9ab3-436a-9c79-40fc3e0991bc"
      },
      "source": [
        "#Final layer has 3 neurons as we have 3 classes for classification\n",
        "#Below parameters have been hardcoded from GridSearch results\n",
        "#The optimizer & activation function could not be optimized as Spark has default values for optimizer (gd or l-bfgs) and sigmoid & softmax activation functions for intermediate and output layers respectively\n",
        "#Probably because of this reason, Neural Network is not the best performing model\n",
        "layers = [11,22,9,3]\n",
        "tolerance = 0.001\n",
        "learningrate = 0.000001\n",
        "blocksize = 32\n",
        "\n",
        "# create the trainer and set its parameters\n",
        "NeuralBaseModel = MultilayerPerceptronClassifier(labelCol=\"Y_top_genre\", featuresCol=\"std_features\", maxIter=100, layers=layers, blockSize=blocksize, seed=10 ,tol=tolerance,stepSize=learningrate)\n",
        "topgenre_NNfinal_pipe = Pipeline(stages=[VectorAssembler, StandardScaler, NeuralBaseModel]).fit(training_df)\n",
        "\n",
        "#NNFinalSummary = topgenre_NNfinal_pipe.stages[-1].summary\n",
        "#\n",
        "##Trained Final Model Evaluation\n",
        "#NNFinalTR_accuracy = NNFinalSummary.accuracy\n",
        "#NNFinalTR_FPR = NNFinalSummary.weightedFalsePositiveRate\n",
        "#NNFinalTR_TPR = NNFinalSummary.weightedTruePositiveRate\n",
        "#NNFinalTR_FMeasure = NNFinalSummary.weightedFMeasure()\n",
        "#NNFinalTR_Precision = NNFinalSummary.weightedPrecision\n",
        "#NNFinalTR_Recall = NNFinalSummary.weightedRecall\n",
        "#print(\"*********************Training Results*********************************\")\n",
        "#print(\"Training Accuracy: %s\\nFPR: %s\\nTPR: %s\\nF-measure: %s\\nPrecision: %s\\nRecall: %s\"\n",
        "#      % (NNFinalTR_accuracy, NNFinalTR_FPR, NNFinalTR_TPR, NNFinalTR_FMeasure, NNFinalTR_Precision, NNFinalTR_Recall))\n",
        "\n",
        "evaluatorMulti = MulticlassClassificationEvaluator(labelCol=\"Y_top_genre\", predictionCol=\"prediction\")\n",
        "evaluator = BinaryClassificationEvaluator(labelCol=\"Y_top_genre\", rawPredictionCol=\"prediction\", metricName='areaUnderROC')\n",
        "\n",
        "predictionAndTarget = topgenre_NNfinal_pipe.transform(testing_df).select(\"Y_top_genre\", \"prediction\")\n",
        "\n",
        "# Test Final Model Evaluation\n",
        "NNFinalTE_accuracy = evaluatorMulti.evaluate(predictionAndTarget, {evaluatorMulti.metricName: \"accuracy\"})\n",
        "NNFinalTE_FMeasure = evaluatorMulti.evaluate(predictionAndTarget, {evaluatorMulti.metricName: \"f1\"})\n",
        "NNFinalTE_Precision = evaluatorMulti.evaluate(predictionAndTarget, {evaluatorMulti.metricName: \"weightedPrecision\"})\n",
        "NNFinalTE_Recall = evaluatorMulti.evaluate(predictionAndTarget, {evaluatorMulti.metricName: \"weightedRecall\"})\n",
        "#NN_Final_AUC = evaluator.evaluate(predictionAndTarget)\n",
        "print(\"*********************Neural Networks Final Model Test Results*********************************\")\n",
        "print(\"Test Accuracy: %s\\nf1: %s\\nPrecision: %s\\nRecall: %s\"\n",
        "      % (NNFinalTE_accuracy, NNFinalTE_FMeasure, NNFinalTE_Precision, NNFinalTE_Recall))\n",
        "#print(\"Area Under Curve:\", NN_Final_AUC)"
      ],
      "execution_count": 11,
      "outputs": [
        {
          "output_type": "stream",
          "text": [
            "*********************Neural Networks Final Model Test Results*********************************\n",
            "Test Accuracy: 0.5292365574541464\n",
            "f1: 0.527265823838639\n",
            "Precision: 0.5275082733892166\n",
            "Recall: 0.5292365574541464\n"
          ],
          "name": "stdout"
        }
      ]
    },
    {
      "cell_type": "markdown",
      "metadata": {
        "id": "-YUUbTZLT-6H"
      },
      "source": [
        "# Random Forest"
      ]
    },
    {
      "cell_type": "code",
      "metadata": {
        "id": "xCK2cTrCUCeV",
        "colab": {
          "base_uri": "https://localhost:8080/"
        },
        "outputId": "2a9c7fcf-81d2-45da-bca8-196af90709db"
      },
      "source": [
        "from pyspark.ml.feature import VectorAssembler\n",
        "\n",
        "VectorAssembler=VectorAssembler(inputCols=['spectral_rolloff', 'rmse', 'chroma_stft', 'spectral_centroid','spectral_contrast', 'spectral_bandwidth', 'zcr','track_favorites', 'num_listens_per_album', 'duration','num_listens_per_song'], outputCol = 'num_features')\n",
        "RFBasemodel = RandomForestClassifier(labelCol=\"Y_top_genre\", \\\n",
        "                            featuresCol=\"num_features\", \\\n",
        "                            numTrees = 100, \\\n",
        "                            maxDepth = 4, \\\n",
        "                            maxBins = 32)\n",
        "\n",
        "topgenre_RFbase_pipe = Pipeline(stages=[VectorAssembler, RFBasemodel]).fit(training_df)\n",
        "\n",
        "#RFBaseSummary = topgenre_RFbase_pipe.stages[-1].summary\n",
        "#\n",
        "##Trained Base Model Evaluation\n",
        "#RFBaseTR_accuracy = RFBaseSummary.accuracy\n",
        "#RFBaseTR_FPR = RFBaseSummary.weightedFalsePositiveRate\n",
        "#RFBaseTR_TPR = RFBaseSummary.weightedTruePositiveRate\n",
        "#RFBaseTR_FMeasure = RFBaseSummary.weightedFMeasure()\n",
        "#RFBaseTR_Precision = RFBaseSummary.weightedPrecision\n",
        "#RFBaseTR_Recall = RFBaseSummary.weightedRecall\n",
        "#print(\"*********************Training Results*********************************\")\n",
        "#print(\"Training Accuracy: %s\\nFPR: %s\\nTPR: %s\\nF-measure: %s\\nPrecision: %s\\nRecall: %s\"\n",
        "#      % (RFBaseTR_accuracy, RFBaseTR_FPR, RFBaseTR_TPR, RFBaseTR_FMeasure, RFBaseTR_Precision, RFBaseTR_Recall))\n",
        "\n",
        "evaluatorMulti = MulticlassClassificationEvaluator(labelCol=\"Y_top_genre\", predictionCol=\"prediction\")\n",
        "evaluator = BinaryClassificationEvaluator(labelCol=\"Y_top_genre\", rawPredictionCol=\"prediction\", metricName='areaUnderROC')\n",
        "predictionAndTarget = topgenre_RFbase_pipe.transform(testing_df).select(\"Y_top_genre\", \"prediction\")\n",
        "\n",
        "# Test Base Model Evaluation\n",
        "RFBaseTE_accuracy = evaluatorMulti.evaluate(predictionAndTarget, {evaluatorMulti.metricName: \"accuracy\"})\n",
        "RFBaseTE_FMeasure = evaluatorMulti.evaluate(predictionAndTarget, {evaluatorMulti.metricName: \"f1\"})\n",
        "RFBaseTE_Precision = evaluatorMulti.evaluate(predictionAndTarget, {evaluatorMulti.metricName: \"weightedPrecision\"})\n",
        "RFBaseTE_Recall = evaluatorMulti.evaluate(predictionAndTarget, {evaluatorMulti.metricName: \"weightedRecall\"})\n",
        "#RF_Base_AUC = evaluator.evaluate(predictionAndTarget)\n",
        "print(\"*********************Random Forest Base Model Test Results*********************************\")\n",
        "print(\"Test Accuracy: %s\\nf1: %s\\nPrecision: %s\\nRecall: %s\"\n",
        "      % (RFBaseTE_accuracy, RFBaseTE_FMeasure, RFBaseTE_Precision, RFBaseTE_Recall))\n",
        "#print(\"Area Under Curve:\", RF_Base_AUC)"
      ],
      "execution_count": 12,
      "outputs": [
        {
          "output_type": "stream",
          "text": [
            "*********************Random Forest Base Model Test Results*********************************\n",
            "Test Accuracy: 0.5112086533939489\n",
            "f1: 0.505007415623297\n",
            "Precision: 0.508204659444156\n",
            "Recall: 0.5112086533939489\n"
          ],
          "name": "stdout"
        }
      ]
    },
    {
      "cell_type": "code",
      "metadata": {
        "id": "g64dBYKbUJUy"
      },
      "source": [
        "enable_grid = False #Change to True to perform Grid Search\n",
        "if enable_grid:\n",
        "  from pyspark.ml.classification import RandomForestClassifier\n",
        "  RFBasemodel_grid=RandomForestClassifier().\\\n",
        "  setLabelCol('Y_top_genre').\\\n",
        "  setFeaturesCol('num_features').\\\n",
        "  setNumTrees(100).\\\n",
        "  setMaxDepth(4).\\\n",
        "  setMaxBins(32)\n",
        "    \n",
        "  top_genre_pipe_grid = Pipeline(stages=[VectorAssembler, RFBasemodel_grid])\n",
        "  grid = ParamGridBuilder().\\\n",
        "  addGrid(RFBasemodel_grid.numTrees, [10,15,20,25]).\\\n",
        "  addGrid(RFBasemodel_grid.maxDepth, [5,10,15]).\\\n",
        "  addGrid(RFBasemodel_grid.maxBins, [4,6,8,10]).\\\n",
        "  build()\n",
        "\n",
        "  all_models = []\n",
        "  for j in range(len(grid)):\n",
        "      print(\"Fitting model {}\".format(j+1))\n",
        "      model = top_genre_pipe_grid.fit(training_df, grid[j])\n",
        "      all_models.append(model)\n",
        "\n",
        "  accuracies = [m.\\\n",
        "  transform(validation_df).\\\n",
        "  select(fn.avg(fn.expr('float(Y_top_genre = prediction)')).alias('accuracy')).\\\n",
        "  first().\\\n",
        "  accuracy for m in all_models]\n",
        "\n",
        "  import numpy as np\n",
        "\n",
        "  best_model_idx = np.argmax(accuracies)\n",
        "  print(\"best model index =\", best_model_idx)\n",
        "  print(\"Best Model\",grid[best_model_idx])\n",
        "  \n",
        "  best_model = all_models[best_model_idx]\n",
        "  best_model.\\\n",
        "  transform(testing_df).\\\n",
        "  select(fn.avg(fn.expr('float(Y_top_genre = prediction)')).alias('accuracy')).\\\n",
        "  show()\n",
        "  pass"
      ],
      "execution_count": 13,
      "outputs": []
    },
    {
      "cell_type": "code",
      "metadata": {
        "id": "2Ex0TZ6cUL7v",
        "colab": {
          "base_uri": "https://localhost:8080/"
        },
        "outputId": "e7802003-b2ea-40c6-c64f-6b4e915afe15"
      },
      "source": [
        "#Tuned Hyperparameters\n",
        "trees=20\n",
        "depth=15\n",
        "bins=6\n",
        "\n",
        "from pyspark.ml.feature import VectorAssembler\n",
        "\n",
        "VectorAssembler=VectorAssembler(inputCols=['spectral_rolloff', 'rmse', 'chroma_stft', 'spectral_centroid','spectral_contrast', 'spectral_bandwidth', 'zcr','track_favorites', 'num_listens_per_album', 'duration','num_listens_per_song'], outputCol = 'num_features')\n",
        "RFBasemodel = RandomForestClassifier(labelCol=\"Y_top_genre\", \\\n",
        "                            featuresCol=\"num_features\", \\\n",
        "                            numTrees = trees, \\\n",
        "                            maxDepth = depth, \\\n",
        "                            maxBins = bins)\n",
        "\n",
        "topgenre_RFFinal_pipe = Pipeline(stages=[VectorAssembler, RFBasemodel]).fit(training_df)\n",
        "\n",
        "#RFBaseSummary = topgenre_RFFinal_pipe.stages[-1].summary\n",
        "#\n",
        "##Trained Final Model Evaluation\n",
        "#RFFinalTR_accuracy = RFBaseSummary.accuracy\n",
        "#RFFinalTR_FPR = RFBaseSummary.weightedFalsePositiveRate\n",
        "#RFFinalTR_TPR = RFBaseSummary.weightedTruePositiveRate\n",
        "#RFFinalTR_FMeasure = RFBaseSummary.weightedFMeasure()\n",
        "#RFFinalTR_Precision = RFBaseSummary.weightedPrecision\n",
        "#RFFinalTR_Recall = RFBaseSummary.weightedRecall\n",
        "#print(\"*********************Training Results*********************************\")\n",
        "#print(\"Training Accuracy: %s\\nFPR: %s\\nTPR: %s\\nF-measure: %s\\nPrecision: %s\\nRecall: %s\"\n",
        "#      % (RFFinalTR_accuracy, RFFinalTR_FPR, RFFinalTR_TPR, RFFinalTR_FMeasure, RFFinalTR_Precision, RFFinalTR_Recall))\n",
        "\n",
        "evaluatorMulti = MulticlassClassificationEvaluator(labelCol=\"Y_top_genre\", predictionCol=\"prediction\")\n",
        "evaluator = BinaryClassificationEvaluator(labelCol=\"Y_top_genre\", rawPredictionCol=\"prediction\", metricName='areaUnderROC')\n",
        "predictionAndTarget = topgenre_RFFinal_pipe.transform(testing_df).select(\"Y_top_genre\", \"prediction\")\n",
        "\n",
        "# Test Final Model Evaluation\n",
        "RFFinalTE_accuracy = evaluatorMulti.evaluate(predictionAndTarget, {evaluatorMulti.metricName: \"accuracy\"})\n",
        "RFFinalTE_FMeasure = evaluatorMulti.evaluate(predictionAndTarget, {evaluatorMulti.metricName: \"f1\"})\n",
        "RFFinalTE_Precision = evaluatorMulti.evaluate(predictionAndTarget, {evaluatorMulti.metricName: \"weightedPrecision\"})\n",
        "RFFinalTE_Recall = evaluatorMulti.evaluate(predictionAndTarget, {evaluatorMulti.metricName: \"weightedRecall\"})\n",
        "#RF_Final_AUC = evaluator.evaluate(predictionAndTarget)\n",
        "print(\"*********************Random Forest Final Model Test Results*********************************\")\n",
        "print(\"Test Accuracy: %s\\nf1: %s\\nPrecision: %s\\nRecall: %s\"\n",
        "      % (RFFinalTE_accuracy, RFFinalTE_FMeasure, RFFinalTE_Precision, RFFinalTE_Recall))\n",
        "#print(\"Area Under Curve:\", RF_Final_AUC)"
      ],
      "execution_count": 14,
      "outputs": [
        {
          "output_type": "stream",
          "text": [
            "*********************Random Forest Final Model Test Results*********************************\n",
            "Test Accuracy: 0.5706223546010346\n",
            "f1: 0.5701214214442426\n",
            "Precision: 0.57193813137638\n",
            "Recall: 0.5706223546010347\n"
          ],
          "name": "stdout"
        }
      ]
    },
    {
      "cell_type": "markdown",
      "metadata": {
        "id": "f10jpj8M26S1"
      },
      "source": [
        "# Model Comparison"
      ]
    },
    {
      "cell_type": "code",
      "metadata": {
        "id": "_1s20lvg2sxa",
        "colab": {
          "base_uri": "https://localhost:8080/",
          "height": 366
        },
        "outputId": "e64360ba-8433-4ae4-fa87-78552f2f87ca"
      },
      "source": [
        "import matplotlib.pyplot as plt\n",
        "fig = plt.figure()\n",
        "ax = fig.add_axes([0,0,1,1])\n",
        "models = ['Logistic Regression', 'Naive Bayes', 'Neural Networks', 'Random Forest']\n",
        "AUC = [LRTE_accuracy*100,NBTE_accuracy*100,NNFinalTE_accuracy*100,RFFinalTE_accuracy*100]\n",
        "plt.title('Accuracy for Final Model Test Data')\n",
        "plt.xlabel('Genre Classification Models')\n",
        "plt.ylabel('Accuracy')\n",
        "ax.bar(models,AUC)\n",
        "plt.show()"
      ],
      "execution_count": 15,
      "outputs": [
        {
          "output_type": "display_data",
          "data": {
            "image/png": "[encoded data removed]",
            "text/plain": [
              "<Figure size 432x288 with 1 Axes>"
            ]
          },
          "metadata": {
            "tags": [],
            "needs_background": "light"
          }
        }
      ]
    },
    {
      "cell_type": "code",
      "metadata": {
        "id": "yvzhQFdu3oYh",
        "colab": {
          "base_uri": "https://localhost:8080/",
          "height": 366
        },
        "outputId": "2ec8a945-8409-4220-fc24-4f13cb680a0d"
      },
      "source": [
        "import matplotlib.pyplot as plt\n",
        "fig = plt.figure()\n",
        "ax = fig.add_axes([0,0,1,1])\n",
        "models = ['Logistic Regression', 'Naive Bayes', 'Neural Networks', 'Random Forest']\n",
        "FMea = [LRTE_FMeasure*100,NBTE_FMeasure*100,NNFinalTE_FMeasure*100,RFFinalTE_FMeasure*100]\n",
        "plt.title('FMeasure for Final Model Test Data')\n",
        "plt.xlabel('Genre Classification Models')\n",
        "plt.ylabel('FMeasure')\n",
        "ax.bar(models,FMea)\n",
        "plt.show()"
      ],
      "execution_count": 16,
      "outputs": [
        {
          "output_type": "display_data",
          "data": {
            "image/png": "[encoded data removed]",
            "text/plain": [
              "<Figure size 432x288 with 1 Axes>"
            ]
          },
          "metadata": {
            "tags": [],
            "needs_background": "light"
          }
        }
      ]
    }
  ]
}