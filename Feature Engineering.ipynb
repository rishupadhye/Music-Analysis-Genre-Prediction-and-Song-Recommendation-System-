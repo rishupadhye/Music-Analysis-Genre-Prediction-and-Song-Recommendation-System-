{
  "nbformat": 4,
  "nbformat_minor": 0,
  "metadata": {
    "kernelspec": {
      "display_name": "Python 3",
      "language": "python",
      "name": "python3"
    },
    "language_info": {
      "codemirror_mode": {
        "name": "ipython",
        "version": 3
      },
      "file_extension": ".py",
      "mimetype": "text/x-python",
      "name": "python",
      "nbconvert_exporter": "python",
      "pygments_lexer": "ipython3",
      "version": "3.7.3"
    },
    "colab": {
      "name": "IST718-Feature selection_and_reduction_AND_Clustering.ipynb",
      "provenance": [],
      "collapsed_sections": []
    }
  },
  "cells": [
    {
      "cell_type": "code",
      "metadata": {
        "id": "xU8XXlCHSAV_",
        "colab": {
          "base_uri": "https://localhost:8080/"
        },
        "outputId": "f3172807-57a7-4f32-bd91-313f66a76193"
      },
      "source": [
        "%%bash\n",
        "# Do not change or modify this file\n",
        "# Need to install pyspark\n",
        "# if pyspark is already installed, will print a message indicating pyspark already isntalled\n",
        "pip install pyspark\n",
        "\n",
        "# Download the data files from github\n",
        "# If the data file does not exist in the colab environment\n",
        "if [[ ! -f ./finaldf.csv ]]; then \n",
        "      wget https://raw.githubusercontent.com/ssadagop97/IST718-Fall2020/main/finaldf.csv\n",
        "   # download the data file from github and save it in this colab environment instance\n",
        "fi\n",
        "ls finaldf.csv"
      ],
      "execution_count": 1,
      "outputs": [
        {
          "output_type": "stream",
          "text": [
            "Requirement already satisfied: pyspark in /usr/local/lib/python3.6/dist-packages (3.0.1)\n",
            "Requirement already satisfied: py4j==0.10.9 in /usr/local/lib/python3.6/dist-packages (from pyspark) (0.10.9)\n",
            "finaldf.csv\n"
          ],
          "name": "stdout"
        }
      ]
    },
    {
      "cell_type": "code",
      "metadata": {
        "id": "blcXdG3mQdop",
        "colab": {
          "base_uri": "https://localhost:8080/",
          "height": 17
        },
        "outputId": "ff523aa9-7670-4579-9a51-ceae4f045add"
      },
      "source": [
        "import cufflinks as cf\n",
        "cf.go_offline()\n",
        "%matplotlib inline\n",
        "from plotly import tools\n",
        "from plotly.offline import init_notebook_mode, iplot\n",
        "init_notebook_mode(connected=True)\n",
        "import plotly.graph_objs as go\n",
        "import plotly.figure_factory as ff\n",
        "import plotly.offline as offline\n",
        "# Random for well, random stuff\n",
        "import random\n",
        "# operator for sorting dictionaries\n",
        "import operator\n",
        "# For ignoring warnings\n",
        "import warnings\n",
        "warnings.filterwarnings('ignore')\n"
      ],
      "execution_count": 2,
      "outputs": [
        {
          "output_type": "display_data",
          "data": {
            "text/html": [
              "        <script type=\"text/javascript\">\n",
              "        window.PlotlyConfig = {MathJaxConfig: 'local'};\n",
              "        if (window.MathJax) {MathJax.Hub.Config({SVG: {font: \"STIX-Web\"}});}\n",
              "        if (typeof require !== 'undefined') {\n",
              "        require.undef(\"plotly\");\n",
              "        requirejs.config({\n",
              "            paths: {\n",
              "                'plotly': ['https://cdn.plot.ly/plotly-latest.min']\n",
              "            }\n",
              "        });\n",
              "        require(['plotly'], function(Plotly) {\n",
              "            window._Plotly = Plotly;\n",
              "        });\n",
              "        }\n",
              "        </script>\n",
              "        "
            ]
          },
          "metadata": {
            "tags": []
          }
        },
        {
          "output_type": "display_data",
          "data": {
            "text/html": [
              "        <script type=\"text/javascript\">\n",
              "        window.PlotlyConfig = {MathJaxConfig: 'local'};\n",
              "        if (window.MathJax) {MathJax.Hub.Config({SVG: {font: \"STIX-Web\"}});}\n",
              "        if (typeof require !== 'undefined') {\n",
              "        require.undef(\"plotly\");\n",
              "        requirejs.config({\n",
              "            paths: {\n",
              "                'plotly': ['https://cdn.plot.ly/plotly-latest.min']\n",
              "            }\n",
              "        });\n",
              "        require(['plotly'], function(Plotly) {\n",
              "            window._Plotly = Plotly;\n",
              "        });\n",
              "        }\n",
              "        </script>\n",
              "        "
            ]
          },
          "metadata": {
            "tags": []
          }
        }
      ]
    },
    {
      "cell_type": "code",
      "metadata": {
        "id": "1nNZRLkxQdox"
      },
      "source": [
        "import pandas as pd\n",
        "import numpy as np\n",
        "import matplotlib.pyplot as plt\n",
        "import seaborn as sns\n",
        "import warnings\n",
        "warnings.filterwarnings('ignore')\n",
        "from plotly.offline  import download_plotlyjs,init_notebook_mode,plot, iplot"
      ],
      "execution_count": 3,
      "outputs": []
    },
    {
      "cell_type": "code",
      "metadata": {
        "colab": {
          "base_uri": "https://localhost:8080/"
        },
        "id": "3dqGhNI0K5I9",
        "outputId": "c85cfa6d-2065-4b54-9806-233f343fab5a"
      },
      "source": [
        "!pip install pyspark"
      ],
      "execution_count": 4,
      "outputs": [
        {
          "output_type": "stream",
          "text": [
            "Requirement already satisfied: pyspark in /usr/local/lib/python3.6/dist-packages (3.0.1)\n",
            "Requirement already satisfied: py4j==0.10.9 in /usr/local/lib/python3.6/dist-packages (from pyspark) (0.10.9)\n"
          ],
          "name": "stdout"
        }
      ]
    },
    {
      "cell_type": "code",
      "metadata": {
        "id": "4v3FRQ3wQdo0",
        "colab": {
          "base_uri": "https://localhost:8080/"
        },
        "outputId": "6c00d8bc-cf31-494c-efda-46e258b1fc8d"
      },
      "source": [
        "from pyspark.sql import SparkSession\n",
        "from pyspark.sql import SQLContext\n",
        "from pyspark.sql.functions import lower, col\n",
        "spark = SparkSession .builder.master(\"local[*]\").config(\"spark.memory.fraction\", 0.8) .config(\"spark.executor.memory\", \"12g\").config(\"spark.driver.memory\", \"12g\").config(\"spark.memory.offHeap.enabled\",'true').config(\"spark.memory.offHeap.size\",\"12g\").getOrCreate()\n",
        "sc = spark.sparkContext\n",
        "sqlContext = SQLContext(sc)\n",
        "df = spark.read.format(\"csv\").option(\"header\", \"true\").load(\"finaldf.csv\")\n",
        "print(df.show())\n",
        "from pyspark.sql.types import DoubleType\n",
        "from pyspark.sql.types import DateType\n",
        "#df = df.withColumn(\"num_tracks_in_album\", df[\"Number of tracks\"].cast(DoubleType()))\n",
        "df= df.withColumn(\"num_tracks_in_album\", df[\"num_tracks_in_album\"].cast(DoubleType()))\n",
        "df= df.withColumn(\"year_of_release\", df[\"year_of_release\"].cast(DateType()))\n",
        "df= df.withColumn(\"num_listens_per_album\", df[\"num_listens_per_album\"].cast(DoubleType()))\n",
        "df= df.withColumn(\"track_favorites\", df[\"track_favorites\"].cast(DoubleType()))\n",
        "df= df.withColumn(\"album_favourites\", df[\"album_favourites\"].cast(DoubleType()))\n",
        "df= df.withColumn(\"duration\", df[\"duration\"].cast(DoubleType()))\n",
        "df= df.withColumn(\"interest\", df[\"interest\"].cast(DoubleType()))\n",
        "df= df.withColumn(\"num_listens_per_song\", df[\"num_listens_per_song\"].cast(DoubleType()))\n",
        "df= df.withColumn(\"chroma_cens\", df[\"chroma_cens\"].cast(DoubleType()))\n",
        "df= df.withColumn(\"chroma_cqt\", df[\"chroma_cqt\"].cast(DoubleType()))\n",
        "df= df.withColumn(\"chroma_stft\", df[\"chroma_stft\"].cast(DoubleType()))\n",
        "df= df.withColumn(\"mfcc\", df[\"mfcc\"].cast(DoubleType()))\n",
        "df= df.withColumn(\"rmse\", df[\"rmse\"].cast(DoubleType()))\n",
        "df= df.withColumn(\"spectral_centroid\", df[\"spectral_centroid\"].cast(DoubleType()))\n",
        "df= df.withColumn(\"spectral_bandwidth\", df[\"spectral_bandwidth\"].cast(DoubleType()))\n",
        "df= df.withColumn(\"spectral_contrast\", df[\"spectral_contrast\"].cast(DoubleType()))\n",
        "df= df.withColumn(\"spectral_rolloff\", df[\"spectral_rolloff\"].cast(DoubleType()))\n",
        "df= df.withColumn(\"tonnetz\", df[\"tonnetz\"].cast(DoubleType()))\n",
        "df= df.withColumn(\"zcr\", df[\"zcr\"].cast(DoubleType()))\n",
        "features = list(df.columns)\n",
        "features.remove('_c0')\n",
        "features.remove('Album Title')\n",
        "features.remove('Album_ID')\n",
        "features.remove('Artist_ID')\n",
        "features.remove('tags')\n",
        "features.remove('composer')\n",
        "features.remove('genre_top')\n",
        "features.remove('title')\n",
        "features.remove('associated_labels')\n",
        "features.remove('type')\n",
        "df = df.select(features)"
      ],
      "execution_count": 5,
      "outputs": [
        {
          "output_type": "stream",
          "text": [
            "+-----+--------+--------------------+--------+---------+--------------------+-------------+--------------------+--------------------+--------+--------------------+---------+-------------+-------------------+---------------+---------------------+---------------+----------------+--------+--------+--------------------+-----------+----------+-----------+------+-----+-----------------+------------------+-----------------+----------------+---------+------+\n",
            "|  _c0|track_id|         Album Title|Album_ID|Artist_ID|               title|         type|   associated_labels|                tags|composer|          top_genres|genre_top|language_code|num_tracks_in_album|year_of_release|num_listens_per_album|track_favorites|album_favourites|duration|interest|num_listens_per_song|chroma_cens|chroma_cqt|chroma_stft|  mfcc| rmse|spectral_centroid|spectral_bandwidth|spectral_contrast|spectral_rolloff|  tonnetz|   zcr|\n",
            "+-----+--------+--------------------+--------+---------+--------------------+-------------+--------------------+--------------------+--------+--------------------+---------+-------------+-------------------+---------------+---------------------+---------------+----------------+--------+--------+--------------------+-----------+----------+-----------+------+-----+-----------------+------------------+-----------------+----------------+---------+------+\n",
            "|56105|  116534|   [EPV_170] Melodia|   17938|    13507|              Aurora|        Album|                null|['violeta pivnkak...|    null|Classical/Folk/Ja...|     null|         null|                  6|       1/1/2015|                20121|             39|               1|      32|    5240|                4479|    0.00365|    0.0497|     0.0174| -3.28| 0.35|              316|               702|             13.7|             303|  -0.0381|0.0194|\n",
            "|53170|    3263|Live at WFMU on M...|     969|      390|              A Date|Radio Program|       pedal records|['japan psychedel...|    null|Classical/Folk/Ja...|     Folk|           en|                  5|       1/1/2008|                 3469|              2|               0|     208|    2034|                 952|     0.0489|     0.145|     0.0348| -11.9| 3.57|              584|              1290|             28.7|             887|  0.00308|0.0142|\n",
            "|55177|   80091|[EPV_123] Kukkia ...|   13732|    13507|               Kukka|         null|                null|['violeta pivnkak...|    null|Classical/Folk/Ja...|     null|         null|                 -1|       1/1/1900|                   -1|             39|              -1|      72|    3209|                1812|     0.0923|     0.178|      0.062|-0.484|0.885|              713|              1010|               19|            1030|  -0.0204|0.0352|\n",
            "|56186|  119962|    [EPV_123] kukkia|   18310|    13507|               Kukka|        Album|                null|['violeta pivnkak...|    null|Classical/Folk/Ja...|     null|         null|                  5|       1/1/2013|                 6770|             39|               0|      72|    2406|                1991|     0.0924|     0.178|      0.062|-0.477|0.885|              719|              1030|             18.8|            1030|  -0.0205|0.0352|\n",
            "|17798|  125302|Birds Flying In T...|   18947|    13530|         Untitled #8|        Album|                null|['yusuke tsutsumi...|    null|Classical/Folk/Ja...|     null|         null|                 12|       1/1/1900|                43816|             81|               4|      44|    5654|                4620|      0.207|     0.419|     0.0633|-0.665|    2|              620|               952|             21.5|            1180|  -0.0259|0.0263|\n",
            "|56012|  115135|       Double Days I|   17741|       77| On Waterfall's Head|        Album|Time-Lag, Phase!,...|['maine', 'big bl...|    null|Classical/Folk/Ja...|     null|         null|                 10|       1/1/1900|                12011|            219|               1|     139|    2873|                2503|     0.0903|     0.209|     0.0656| -10.1| 4.37|              682|               613|               21|             993|  0.00319| 0.046|\n",
            "|57178|  152297|    Relaxing Ukulele|   22623|    22472|            Time Gap|         null|                null|['public domain',...|    null|Classical/Folk/Ja...|     null|         null|                  8|       1/1/1900|                15278|             62|               0|     115|    1900|                1481|     0.0473|     0.152|     0.0703|  6.13| 1.72|              782|              1250|             29.6|            1270|  -0.0252|0.0298|\n",
            "|17793|  125272|Birds Flying In T...|   18947|    13530|         Untitled #3|        Album|                null|['yusuke tsutsumi...|    null|Classical/Folk/Ja...|     null|         null|                 12|       1/1/1900|                43816|             81|               4|      31|    3839|                3216|      0.137|     0.297|     0.0767|  -3.4|0.971|              843|              1230|             22.6|            1460| -0.00665|0.0335|\n",
            "|53469|   10493|Phoning It In 06/...|    2589|     2547|        Dealin' Doug|Radio Program|                null|  ['patrick porter']|    null|Classical/Folk/Ja...|     null|           en|                  8|       1/1/2005|                 1008|              0|               0|     319|    1008|                 135|     0.0953|     0.255|     0.0768| -4.67|0.918|              592|               805|             18.2|             987|   -0.022|0.0302|\n",
            "|55817|  108273|[EPV_164] Kipinä​...|   16839|    13507|            Aika Ohi|        Album|                null|['violeta pivnkak...|    null|Classical/Folk/Ja...|     null|         null|                 11|       1/1/2014|                46003|             39|               4|     137|    4214|                3267|     0.0196|     0.109|     0.0773| -7.38| 1.69|              439|               984|             24.4|             585|-0.000153|0.0178|\n",
            "|69331|   15433| Winter Construction|    3545|     4253| sympathetic netting|        Album|                null|        ['ian epps']|    null|Classical/Folk/Ja...|     null|           en|                 15|       1/1/1900|                16117|              1|               0|     172|    1326|                1225|     0.0923|     0.208|     0.0777|  6.21| 2.25|              525|               688|             23.2|             903|   0.0267|0.0369|\n",
            "|53473|   10497|Phoning It In 06/...|    2589|     2547|       Made Of Stone|Radio Program|                null|  ['patrick porter']|    null|Classical/Folk/Ja...|     null|           en|                  8|       1/1/2005|                 1008|              0|               0|     194|     509|                 124|      0.233|     0.413|     0.0858| -1.93|0.505|              695|               972|             18.3|            1230|   0.0285|0.0322|\n",
            "|17334|   70465|Selections from t...|   12521|    14420|Albinoni - Concer...|        Album|                null|['advent chamber ...|    null|Classical/Folk/Ja...|Classical|         null|                  9|       1/1/1900|               164215|             65|               6|     157|   16480|               11092|      0.103|     0.261|     0.0882|  4.07| 1.86|              882|              1110|             28.2|            1480|  0.00124|0.0604|\n",
            "|69816|   48357|               40664|    9260|    10117|Sandro Marinoni -...|        Album|                null|['clinical archiv...|    null|Classical/Folk/Ja...|     null|         null|                 14|       1/1/2011|                 8857|             10|               1|      93|     896|                 671|     0.0783|     0.167|     0.0921|  7.51| 1.63|              577|               924|             18.4|            1020|   0.0295|0.0233|\n",
            "|56440|  126981|         Maine songs|   19194|    17769|            Darkness|        Album|                null|         ['viomire']|    null|Classical/Folk/Ja...|     Folk|         null|                  5|       1/1/2015|                 2280|              0|               0|     216|     726|                 619|     0.0293|    0.0866|     0.0923|-0.809|0.206|              393|               422|             13.8|             746|  0.00196|0.0202|\n",
            "|56949|  141185|         Raggedy Bob|   21228|    19564|It beckoned acros...|        Album|                null|['ben mcelroy', '...|    null|Classical/Folk/Ja...|     null|         null|                 19|       1/1/1900|                 5862|             11|               0|     294|    1153|                 919|     0.0141|    0.0645|     0.0935| -1.72|  1.2|              177|               396|             13.6|             220|  -0.0208|0.0118|\n",
            "|56870|  139115|A Bird Hits The W...|   19276|    19564|It beckoned acros...|         null|                null|['ben mcelroy', '...|    null|Classical/Folk/Ja...|     null|         null|                 -1|       1/1/1900|                   -1|             11|              -1|     294|    1819|                1454|     0.0141|    0.0645|     0.0935| -1.72|  1.2|              177|               396|             13.6|             220|  -0.0208|0.0118|\n",
            "|13331|   20037|Phoning It In 08/...|    4546|     5325|           John Said|Radio Program|                null|         ['jawbone']|    null|Classical/Folk/Ja...|     null|           en|                 10|       1/1/2005|                18383|              8|               0|     144|    2693|                 933|      0.041|       0.2|     0.0964| -2.97| 1.16|              575|               613|             17.8|            1080|   0.0187|0.0372|\n",
            "|54792|   61136|Instrumental Quaa...|   11169|    12347|   Week Thirty-three|        Album|Riot Bear Recordi...|                  []|    null|Classical/Folk/Ja...|     null|         null|                  9|       1/1/1900|                12410|             18|               1|     153|    3350|                 823|      0.124|     0.301|     0.0988|  -6.3|0.779|              818|              1620|             19.5|            1070|  0.00502|0.0254|\n",
            "|17797|  125301|Birds Flying In T...|   18947|    13530|         Untitled #7|        Album|                null|['yusuke tsutsumi...|    null|Classical/Folk/Ja...|     null|         null|                 12|       1/1/1900|                43816|             81|               4|      71|    5512|                4345|     0.0259|     0.176|     0.0996|     3| 2.16|              492|               925|             23.8|             738|  0.00654|0.0226|\n",
            "+-----+--------+--------------------+--------+---------+--------------------+-------------+--------------------+--------------------+--------+--------------------+---------+-------------+-------------------+---------------+---------------------+---------------+----------------+--------+--------+--------------------+-----------+----------+-----------+------+-----+-----------------+------------------+-----------------+----------------+---------+------+\n",
            "only showing top 20 rows\n",
            "\n",
            "None\n"
          ],
          "name": "stdout"
        }
      ]
    },
    {
      "cell_type": "code",
      "metadata": {
        "colab": {
          "base_uri": "https://localhost:8080/"
        },
        "id": "jDk9QUeVdOkn",
        "outputId": "9daa5c6c-a387-4c11-8ef0-ce94c7f8b9d4"
      },
      "source": [
        "df.select(features).toPandas()['top_genres'].value_counts() #Sampled  for the top most generes. Randomly picked up approximately 5000 rows per genre for our model\n",
        "#The junk values are due to excel transitions - we were unable to identify the reason"
      ],
      "execution_count": 6,
      "outputs": [
        {
          "output_type": "execute_result",
          "data": {
            "text/plain": [
              "Hip-Hop/Pop                                                                10649\n",
              "Electronic/Rock                                                            10061\n",
              "Classical/Folk/Jazz/Blues                                                  10061\n",
              "['ariel pinks haunted graffiti']                                               4\n",
              "['nathan eckel']                                                               2\n",
              "['sagan']                                                                      1\n",
              "Beethoven                                                                      1\n",
              "['intrahealth international']                                                  1\n",
              "['dubstep', 'trip-hop', 'trap', 'electronica', 'downtempo', 'nihilore']        1\n",
              "['jonathan biss']                                                              1\n",
              "Name: top_genres, dtype: int64"
            ]
          },
          "metadata": {
            "tags": []
          },
          "execution_count": 6
        }
      ]
    },
    {
      "cell_type": "code",
      "metadata": {
        "id": "oJDYZPFTnRA-"
      },
      "source": [
        ""
      ],
      "execution_count": 6,
      "outputs": []
    },
    {
      "cell_type": "markdown",
      "metadata": {
        "id": "gTYUBfqKnReO"
      },
      "source": [
        "VARAIBLE MANIPULATIONS AND Y-VAR SAMPLING"
      ]
    },
    {
      "cell_type": "code",
      "metadata": {
        "id": "Nqcooj_wXqQI"
      },
      "source": [
        "#Clearing up the Junk Genres\n",
        "from pyspark.sql import functions as fn\n",
        "from pyspark.sql.functions import col\n",
        "top_gernes=['Classical/Folk/Jazz/Blues' ,\n",
        "'Electronic/Rock' ,\n",
        "'Hip-Hop/Pop'  \n",
        "]\n",
        "df = df.withColumn(\"top_genres\",fn.when(col(\"top_genres\").isin(top_gernes), col(\"top_genres\")).otherwise('Hip-Hop/Pop'))"
      ],
      "execution_count": 7,
      "outputs": []
    },
    {
      "cell_type": "code",
      "metadata": {
        "id": "6SNib9M-vrLQ",
        "colab": {
          "base_uri": "https://localhost:8080/"
        },
        "outputId": "6e255c19-9b87-4eb5-84fa-7dadb9cdd90c"
      },
      "source": [
        "df.select(features).toPandas()['top_genres'].value_counts()"
      ],
      "execution_count": 8,
      "outputs": [
        {
          "output_type": "execute_result",
          "data": {
            "text/plain": [
              "Hip-Hop/Pop                  10664\n",
              "Electronic/Rock              10061\n",
              "Classical/Folk/Jazz/Blues    10061\n",
              "Name: top_genres, dtype: int64"
            ]
          },
          "metadata": {
            "tags": []
          },
          "execution_count": 8
        }
      ]
    },
    {
      "cell_type": "code",
      "metadata": {
        "id": "iIwbP-kTkz3M"
      },
      "source": [
        "# Cat coding all the categorical columns \n",
        "objecttypes =['language_code','year_of_release']\n",
        "columnList = [item[0] for item in df.dtypes if item[1].startswith('string')]\n",
        "#cat_columns = df.select(columnList).columns\n",
        "dontchange = ['top_gernes']\n",
        "use_cols = [col for col in df.columns if col not in dontchange]"
      ],
      "execution_count": 9,
      "outputs": []
    },
    {
      "cell_type": "code",
      "metadata": {
        "id": "RdT1Co8wQdpA"
      },
      "source": [
        "newDF=df.select(use_cols).fillna(0)"
      ],
      "execution_count": 10,
      "outputs": []
    },
    {
      "cell_type": "code",
      "metadata": {
        "id": "Fg5a7UTqQdpd"
      },
      "source": [
        "features=list(newDF.columns)"
      ],
      "execution_count": 11,
      "outputs": []
    },
    {
      "cell_type": "code",
      "metadata": {
        "id": "bVKnPbPcQdpf"
      },
      "source": [
        "def correlation(df):\n",
        "        import numpy as np\n",
        "        columnList = [item[0] for item in df.dtypes if item[1].startswith('double')]\n",
        "        corr_matrix = df.select(columnList).toPandas().corr().abs()\n",
        "        upper = corr_matrix.where(np.triu(np.ones(corr_matrix.shape), k=1).astype(np.bool))\n",
        "        for column in upper.columns:\n",
        "            if any(upper[column] > 0.70):\n",
        "                    df.drop(column)\n",
        "\n",
        "        return(df)"
      ],
      "execution_count": 12,
      "outputs": []
    },
    {
      "cell_type": "code",
      "metadata": {
        "id": "fLD1mQJFQdph"
      },
      "source": [
        "tracks_reduced=[]\n",
        "tracks_reduced= correlation(newDF)\n"
      ],
      "execution_count": 13,
      "outputs": []
    },
    {
      "cell_type": "code",
      "metadata": {
        "id": "R9yuZ7tsQdpj",
        "colab": {
          "base_uri": "https://localhost:8080/"
        },
        "outputId": "12132c8e-c9b8-4ef8-ae21-b92b93228136"
      },
      "source": [
        "tracks_reduced.toPandas().shape"
      ],
      "execution_count": 14,
      "outputs": [
        {
          "output_type": "execute_result",
          "data": {
            "text/plain": [
              "(30786, 22)"
            ]
          },
          "metadata": {
            "tags": []
          },
          "execution_count": 14
        }
      ]
    },
    {
      "cell_type": "code",
      "metadata": {
        "id": "01oyyIaFQdpl"
      },
      "source": [
        "tracks_reduced=tracks_reduced.replace([np.inf], np.nan)"
      ],
      "execution_count": 15,
      "outputs": []
    },
    {
      "cell_type": "code",
      "metadata": {
        "id": "BCdGWq2ZxXYy",
        "colab": {
          "base_uri": "https://localhost:8080/"
        },
        "outputId": "aab28e6b-60d4-49b1-bc99-132951db07e7"
      },
      "source": [
        "tracks_reduced.toPandas().top_genres.value_counts()"
      ],
      "execution_count": 16,
      "outputs": [
        {
          "output_type": "execute_result",
          "data": {
            "text/plain": [
              "Hip-Hop/Pop                  10664\n",
              "Electronic/Rock              10061\n",
              "Classical/Folk/Jazz/Blues    10061\n",
              "Name: top_genres, dtype: int64"
            ]
          },
          "metadata": {
            "tags": []
          },
          "execution_count": 16
        }
      ]
    },
    {
      "cell_type": "code",
      "metadata": {
        "id": "T23hUJD3XL1i",
        "colab": {
          "base_uri": "https://localhost:8080/"
        },
        "outputId": "86dd76f1-6233-46ce-ffed-bacd42f951d5"
      },
      "source": [
        "features = list(tracks_reduced.columns)\n",
        "print(features)\n"
      ],
      "execution_count": 17,
      "outputs": [
        {
          "output_type": "stream",
          "text": [
            "['track_id', 'top_genres', 'language_code', 'num_tracks_in_album', 'year_of_release', 'num_listens_per_album', 'track_favorites', 'album_favourites', 'duration', 'interest', 'num_listens_per_song', 'chroma_cens', 'chroma_cqt', 'chroma_stft', 'mfcc', 'rmse', 'spectral_centroid', 'spectral_bandwidth', 'spectral_contrast', 'spectral_rolloff', 'tonnetz', 'zcr']\n"
          ],
          "name": "stdout"
        }
      ]
    },
    {
      "cell_type": "code",
      "metadata": {
        "id": "d96UUJ_iaxzt",
        "colab": {
          "base_uri": "https://localhost:8080/"
        },
        "outputId": "9495f5f4-1e77-4f7c-db55-d23ea9229907"
      },
      "source": [
        "tracks_reduced=tracks_reduced.drop_duplicates()\n",
        "tracks_reduced.show()"
      ],
      "execution_count": 18,
      "outputs": [
        {
          "output_type": "stream",
          "text": [
            "+--------+--------------------+-------------+-------------------+---------------+---------------------+---------------+----------------+--------+--------+--------------------+-----------+----------+-----------+------+-----+-----------------+------------------+-----------------+----------------+--------+------+\n",
            "|track_id|          top_genres|language_code|num_tracks_in_album|year_of_release|num_listens_per_album|track_favorites|album_favourites|duration|interest|num_listens_per_song|chroma_cens|chroma_cqt|chroma_stft|  mfcc| rmse|spectral_centroid|spectral_bandwidth|spectral_contrast|spectral_rolloff| tonnetz|   zcr|\n",
            "+--------+--------------------+-------------+-------------------+---------------+---------------------+---------------+----------------+--------+--------+--------------------+-----------+----------+-----------+------+-----+-----------------+------------------+-----------------+----------------+--------+------+\n",
            "|   65783|Classical/Folk/Ja...|         null|               16.0|           null|             297904.0|           91.0|            10.0|    91.0| 11286.0|              6991.0|      0.231|     0.372|      0.192| -4.39| 1.63|            357.0|             428.0|             15.8|           483.0| 0.00213|0.0254|\n",
            "|   87561|Classical/Folk/Ja...|         null|                5.0|           null|              21064.0|           19.0|             1.0|   164.0|  6234.0|              5243.0|       0.22|     0.343|      0.203| -10.8| 1.46|            561.0|             875.0|             24.7|           909.0|  0.0246|0.0241|\n",
            "|   10619|Classical/Folk/Ja...|           en|                9.0|           null|              32177.0|           37.0|             3.0|   141.0|  6794.0|              6843.0|      0.139|     0.324|      0.218| 0.512|0.947|            632.0|             732.0|             17.5|          1180.0|  0.0128|  0.04|\n",
            "|   12053|Classical/Folk/Ja...|           en|                9.0|           null|              11435.0|          219.0|            11.0|   366.0|  1211.0|               743.0|      0.167|     0.358|      0.222|   1.2| 4.34|            698.0|            1000.0|             28.7|          1100.0| -0.0177|0.0336|\n",
            "|   72565|Classical/Folk/Ja...|         null|               24.0|           null|               8299.0|            2.0|             1.0|   157.0|  4961.0|              2127.0|      0.272|     0.469|      0.242| -2.58| 1.44|            973.0|            1290.0|             31.9|          1850.0| 0.00611|0.0458|\n",
            "|  127672|Classical/Folk/Ja...|         null|                9.0|           null|              41498.0|          245.0|             4.0|   124.0|  9223.0|              8252.0|      0.146|     0.294|      0.244| -5.88| 2.96|            505.0|            1160.0|             25.9|           623.0|-1.15E-4|0.0226|\n",
            "|  106405|Classical/Folk/Ja...|         null|               11.0|           null|              36101.0|            9.0|             1.0|   235.0|  4904.0|              3155.0|      0.204|     0.378|      0.246|  -2.1| 1.03|            803.0|            1340.0|             14.2|          1240.0|-0.00119|0.0302|\n",
            "|  140402|Classical/Folk/Ja...|         null|               15.0|           null|              78298.0|           59.0|             9.0|   210.0|  7692.0|              6896.0|      0.182|     0.412|      0.273| -7.41| 3.49|            834.0|             983.0|             25.3|          1590.0| -0.0241|0.0405|\n",
            "|   86124|Classical/Folk/Ja...|         null|               -1.0|           null|                 -1.0|            1.0|            -1.0|   245.0|  7782.0|              6247.0|       0.19|     0.389|      0.283| -5.68| 4.59|            871.0|            1160.0|             29.7|          1680.0|-0.00315|0.0387|\n",
            "|   46698|         Hip-Hop/Pop|    Classical|                0.0|           null|                  0.0|        75181.0|             1.0|     7.0|  2252.0|              9024.0|     6757.0|     0.262|       0.47| 0.311|-2.01|             1.11|             609.0|            800.0|            22.7|  1070.0|0.0048|\n",
            "|   99115|Classical/Folk/Ja...|         null|               10.0|           null|               1772.0|            1.0|             0.0|   336.0|   323.0|               183.0|      0.231|     0.455|      0.322|-0.748| 5.29|            998.0|            1170.0|             37.2|          1930.0|  3.3E-4|0.0547|\n",
            "|  115147|Classical/Folk/Ja...|         null|                9.0|           null|              14509.0|          219.0|             3.0|   372.0|  1539.0|              1200.0|      0.211|     0.431|      0.333|0.0647| 6.25|            578.0|            1010.0|             25.8|           871.0| 0.00259|0.0264|\n",
            "|   54699|Classical/Folk/Ja...|         null|                6.0|           null|               4435.0|            1.0|             0.0|   242.0|   803.0|               589.0|      0.209|     0.376|      0.354| -10.3|  4.4|            954.0|            1380.0|             34.4|          1880.0| 0.00173|0.0344|\n",
            "|   36479|Classical/Folk/Ja...|         null|               23.0|           null|              47468.0|           57.0|             4.0|    72.0|  5193.0|              1495.0|      0.194|     0.393|      0.362| 0.223|0.271|            717.0|            1120.0|             17.6|          1310.0|-0.00968|0.0294|\n",
            "|  123291|Classical/Folk/Ja...|         null|               10.0|           null|               2577.0|            0.0|             0.0|   194.0|  1633.0|              1421.0|      0.173|     0.369|      0.363|  -8.1| 10.9|           1270.0|            1820.0|             25.7|          2710.0|-0.00141|0.0408|\n",
            "|   50937|Classical/Folk/Ja...|         null|               59.0|           null|            1193803.0|          431.0|            17.0|    86.0| 71975.0|             38102.0|      0.148|     0.246|      0.383|  2.13| 3.07|            547.0|            1010.0|             20.2|           995.0|  0.0732|0.0206|\n",
            "|  112247|Classical/Folk/Ja...|         null|                7.0|           null|               3149.0|            2.0|             0.0|   222.0|   667.0|               518.0|      0.165|     0.335|       0.39| -6.16| 4.19|           1170.0|            1580.0|             35.3|          2470.0|  0.0134| 0.048|\n",
            "|   23129|Classical/Folk/Ja...|         null|               20.0|           null|              70637.0|          102.0|             4.0|   196.0|  5491.0|              1916.0|      0.282|     0.569|       0.39|  2.37| 3.37|           1240.0|            1690.0|             33.6|          2560.0|-4.48E-4|0.0473|\n",
            "|   18315|Classical/Folk/Ja...|           en|                5.0|           null|               4679.0|           11.0|             0.0|   275.0|   858.0|               772.0|      0.237|     0.522|      0.391| -0.99| 3.72|            976.0|            1170.0|             27.9|          1670.0|  0.0147|0.0504|\n",
            "|   60369|Classical/Folk/Ja...|         null|               11.0|           null|               9098.0|            9.0|             1.0|   360.0|   571.0|               317.0|      0.219|     0.434|      0.399|  0.11|  3.1|           1960.0|            1960.0|             39.2|          3920.0|-0.00232| 0.101|\n",
            "+--------+--------------------+-------------+-------------------+---------------+---------------------+---------------+----------------+--------+--------+--------------------+-----------+----------+-----------+------+-----+-----------------+------------------+-----------------+----------------+--------+------+\n",
            "only showing top 20 rows\n",
            "\n"
          ],
          "name": "stdout"
        }
      ]
    },
    {
      "cell_type": "code",
      "metadata": {
        "id": "G-ALMJchQdqI",
        "colab": {
          "base_uri": "https://localhost:8080/"
        },
        "outputId": "191dac0d-b44b-4e00-ad71-72594086c9b2"
      },
      "source": [
        "#Converting the data frame into pandas for creating quantile based cuts\n",
        "tracks_reduced=tracks_reduced.toPandas()\n",
        "print(tracks_reduced.head)\n",
        "#tracks_reduced['language_code']=pd.qcut(tracks_reduced['language_code'],q=4).astype('object')\n",
        "tracks_reduced['num_tracks_in_album']=pd.qcut(tracks_reduced['num_tracks_in_album'],q=5).astype('object')\n",
        "#tracks_reduced['year_of_release']=pd.qcut(tracks_reduced['year_of_release'], q=5).astype('object')\n",
        "tracks_reduced['num_listens_per_album']=pd.qcut(tracks_reduced['num_listens_per_album'], q=5).astype('object')\n",
        "tracks_reduced['track_favorites']=pd.qcut(tracks_reduced['track_favorites'], q=5).astype('object')\n",
        "#tracks_reduced['album_favourites']=pd.qcut(tracks_reduced['album_favourites'], q=5).astype('object')\n",
        "tracks_reduced['duration']=pd.qcut(tracks_reduced['duration'], q=5).astype('object')\n",
        "tracks_reduced['interest']=pd.qcut(tracks_reduced['interest'], q=5).astype('object')\n",
        "tracks_reduced['num_listens_per_song']=pd.qcut(tracks_reduced['num_listens_per_song'], q=5).astype('object')\n",
        "tracks_reduced['chroma_cens']=pd.qcut(tracks_reduced['chroma_cens'], q=5).astype('object')\n",
        "tracks_reduced['chroma_cqt']=pd.qcut(tracks_reduced['chroma_cqt'], q=5).astype('object')\n",
        "tracks_reduced['chroma_stft']=pd.qcut(tracks_reduced['chroma_stft'], q=5).astype('object')\n",
        "tracks_reduced['mfcc']=pd.qcut(tracks_reduced['mfcc'], q=5).astype('object')\n",
        "tracks_reduced['rmse']=pd.qcut(tracks_reduced['rmse'], q=5).astype('object')\n",
        "tracks_reduced['spectral_centroid']=pd.qcut(tracks_reduced['spectral_centroid'], q=5).astype('object')\n",
        "tracks_reduced['spectral_bandwidth']=pd.qcut(tracks_reduced['spectral_bandwidth'], q=5).astype('object')\n",
        "tracks_reduced['spectral_contrast']=pd.qcut(tracks_reduced['spectral_contrast'], q=5).astype('object')\n",
        "tracks_reduced['spectral_rolloff']=pd.qcut(tracks_reduced['spectral_rolloff'], q=5).astype('object')\n",
        "tracks_reduced['tonnetz']=pd.qcut(tracks_reduced['tonnetz'], q=5).astype('object')\n",
        "tracks_reduced['zcr']=pd.qcut(tracks_reduced['zcr'], q=5).astype('object')\n",
        "\n",
        "# for i in list(tracks_reduced.columns):\n",
        "#   print(tracks_reduced.i.value_counts())"
      ],
      "execution_count": 19,
      "outputs": [
        {
          "output_type": "stream",
          "text": [
            "<bound method NDFrame.head of       track_id                 top_genres  ...   tonnetz     zcr\n",
            "0        65783  Classical/Folk/Jazz/Blues  ...  0.002130  0.0254\n",
            "1        87561  Classical/Folk/Jazz/Blues  ...  0.024600  0.0241\n",
            "2        10619  Classical/Folk/Jazz/Blues  ...  0.012800  0.0400\n",
            "3        12053  Classical/Folk/Jazz/Blues  ... -0.017700  0.0336\n",
            "4        72565  Classical/Folk/Jazz/Blues  ...  0.006110  0.0458\n",
            "...        ...                        ...  ...       ...     ...\n",
            "30781   130457                Hip-Hop/Pop  ...  0.004250  0.0417\n",
            "30782    60477                Hip-Hop/Pop  ...  0.007990  0.0438\n",
            "30783    18845                Hip-Hop/Pop  ... -0.012300  0.0516\n",
            "30784   130163                Hip-Hop/Pop  ... -0.007910  0.0386\n",
            "30785    56710                Hip-Hop/Pop  ... -0.000586  0.0452\n",
            "\n",
            "[30786 rows x 22 columns]>\n"
          ],
          "name": "stdout"
        }
      ]
    },
    {
      "cell_type": "code",
      "metadata": {
        "id": "47HVFJ0XqWig"
      },
      "source": [
        "tracks_reduced=tracks_reduced.drop(['track_id','year_of_release','album_favourites', 'language_code'], axis=1)\n"
      ],
      "execution_count": 20,
      "outputs": []
    },
    {
      "cell_type": "code",
      "metadata": {
        "id": "MxSMhLDNwHWH"
      },
      "source": [
        "# import labelencoder\n",
        "from sklearn.preprocessing import LabelEncoder\n",
        "# instantiate labelencoder object\n",
        "le = LabelEncoder()\n",
        "# Categorical boolean mask\n",
        "categorical_feature_mask = tracks_reduced.dtypes==object\n",
        "# filter categorical columns using mask and turn it into a list\n",
        "categorical_cols = tracks_reduced.columns[categorical_feature_mask].tolist()\n",
        "categorical_cols.remove('top_genres')\n",
        "from sklearn.ensemble import RandomForestClassifier\n",
        "from sklearn.datasets import make_classification\n",
        "tracks_reduced[categorical_cols] = tracks_reduced[categorical_cols].apply(lambda col: le.fit_transform(col))"
      ],
      "execution_count": 21,
      "outputs": []
    },
    {
      "cell_type": "code",
      "metadata": {
        "id": "sPVNN2j7wqQS"
      },
      "source": [
        "features=list(tracks_reduced)\n",
        "features.remove('top_genres')"
      ],
      "execution_count": 22,
      "outputs": []
    },
    {
      "cell_type": "code",
      "metadata": {
        "id": "nZITSfAutLl2"
      },
      "source": [
        "tracks_reduced = sqlContext.createDataFrame(tracks_reduced)"
      ],
      "execution_count": 23,
      "outputs": []
    },
    {
      "cell_type": "code",
      "metadata": {
        "id": "tcfjxM-OXQ-H",
        "colab": {
          "base_uri": "https://localhost:8080/",
          "height": 297
        },
        "outputId": "8adbfbf8-59ef-4113-b24e-3eb25d266dd5"
      },
      "source": [
        "#Y Variable Distribution\n",
        "i = 0\n",
        "for var_name in ['top_genres']:\n",
        "    tracks_reduced.select(var_name).toPandas().value_counts().sort_values().plot(kind = 'barh', color = 'C0')\n",
        "plt.tight_layout()\n",
        "plt.show()\n",
        "display()"
      ],
      "execution_count": 24,
      "outputs": [
        {
          "output_type": "display_data",
          "data": {
            "image/png": "[encoded data removed]",
            "text/plain": [
              "<Figure size 432x288 with 1 Axes>"
            ]
          },
          "metadata": {
            "tags": [],
            "needs_background": "light"
          }
        }
      ]
    },
    {
      "cell_type": "code",
      "metadata": {
        "id": "51H9LLPXME8v"
      },
      "source": [
        "tracks_reduced.toPandas().to_csv('modelsampled.csv')"
      ],
      "execution_count": 25,
      "outputs": []
    },
    {
      "cell_type": "code",
      "metadata": {
        "id": "oTYHAgbUdae2"
      },
      "source": [
        "from pyspark.sql import SparkSession\n",
        "from pyspark.sql import SQLContext\n",
        "from pyspark.sql.functions import lower, col\n",
        "MAX_MEMORY = \"12g\"\n",
        "spark = SparkSession \\\n",
        "  .builder \\\n",
        "  .master(\"local[*]\")\\\n",
        "  .config(\"spark.memory.fraction\", 0.8) \\\n",
        "  .config(\"spark.executor.memory\", MAX_MEMORY) \\\n",
        "  .config(\"spark.driver.memory\", MAX_MEMORY)\\\n",
        "  .config(\"spark.memory.offHeap.enabled\",'true')\\\n",
        "  .config(\"spark.memory.offHeap.size\",MAX_MEMORY)\\\n",
        "  .getOrCreate()\n",
        "\n",
        "sc = spark.sparkContext\n",
        "sqlContext = SQLContext(sc)"
      ],
      "execution_count": 26,
      "outputs": []
    },
    {
      "cell_type": "code",
      "metadata": {
        "id": "vkWUeTqJMwTD"
      },
      "source": [
        "genre_class_df =  tracks_reduced"
      ],
      "execution_count": 27,
      "outputs": []
    },
    {
      "cell_type": "code",
      "metadata": {
        "colab": {
          "base_uri": "https://localhost:8080/"
        },
        "id": "Ih0IgZanP-iF",
        "outputId": "f0739ccd-4e6c-42d2-8eea-c8c5ffd2973a"
      },
      "source": [
        "genre_class_df.show()"
      ],
      "execution_count": 28,
      "outputs": [
        {
          "output_type": "stream",
          "text": [
            "+--------------------+-------------------+---------------------+---------------+--------+--------+--------------------+-----------+----------+-----------+----+----+-----------------+------------------+-----------------+----------------+-------+---+\n",
            "|          top_genres|num_tracks_in_album|num_listens_per_album|track_favorites|duration|interest|num_listens_per_song|chroma_cens|chroma_cqt|chroma_stft|mfcc|rmse|spectral_centroid|spectral_bandwidth|spectral_contrast|spectral_rolloff|tonnetz|zcr|\n",
            "+--------------------+-------------------+---------------------+---------------+--------+--------+--------------------+-----------+----------+-----------+----+----+-----------------+------------------+-----------------+----------------+-------+---+\n",
            "|Classical/Folk/Ja...|                  3|                    4|              4|       0|       4|                   4|          2|         1|          0|   1|   0|                0|                 0|                0|               0|      2|  0|\n",
            "|Classical/Folk/Ja...|                  0|                    3|              3|       1|       4|                   4|          2|         0|          0|   0|   0|                0|                 0|                0|               0|      4|  0|\n",
            "|Classical/Folk/Ja...|                  1|                    3|              4|       1|       4|                   4|          0|         0|          0|   3|   0|                0|                 0|                0|               0|      4|  2|\n",
            "|Classical/Folk/Ja...|                  1|                    2|              4|       4|       1|                   2|          1|         1|          0|   3|   2|                0|                 0|                1|               0|      0|  1|\n",
            "|Classical/Folk/Ja...|                  4|                    2|              1|       1|       4|                   3|          3|         2|          0|   1|   0|                2|                 2|                2|               1|      3|  2|\n",
            "|Classical/Folk/Ja...|                  1|                    4|              4|       0|       4|                   4|          0|         0|          0|   0|   1|                0|                 1|                1|               0|      2|  0|\n",
            "|Classical/Folk/Ja...|                  2|                    3|              2|       3|       4|                   3|          1|         1|          0|   2|   0|                1|                 2|                0|               0|      1|  1|\n",
            "|Classical/Folk/Ja...|                  3|                    4|              4|       2|       4|                   4|          1|         1|          0|   0|   2|                1|                 0|                0|               1|      0|  2|\n",
            "|Classical/Folk/Ja...|                  0|                    0|              0|       3|       4|                   4|          1|         1|          0|   0|   3|                1|                 1|                1|               1|      1|  1|\n",
            "|         Hip-Hop/Pop|                  0|                    0|              4|       0|       2|                   4|          4|         0|          3|   3|   0|                0|                 0|                4|               0|      4|  0|\n",
            "|Classical/Folk/Ja...|                  1|                    0|              0|       4|       0|                   0|          2|         2|          1|   2|   3|                2|                 1|                3|               2|      2|  3|\n",
            "|Classical/Folk/Ja...|                  1|                    2|              4|       4|       2|                   2|          2|         2|          1|   3|   4|                0|                 1|                1|               0|      2|  0|\n",
            "|Classical/Folk/Ja...|                  0|                    1|              0|       3|       1|                   1|          2|         1|          1|   0|   2|                1|                 2|                3|               1|      2|  1|\n",
            "|Classical/Folk/Ja...|                  4|                    4|              4|       0|       4|                   3|          1|         1|          1|   3|   0|                0|                 1|                0|               0|      0|  0|\n",
            "|Classical/Folk/Ja...|                  1|                    0|              0|       2|       2|                   3|          1|         1|          1|   0|   4|                3|                 4|                0|               3|      1|  2|\n",
            "|Classical/Folk/Ja...|                  4|                    4|              4|       0|       4|                   4|          0|         0|          1|   4|   1|                0|                 1|                0|               0|      4|  0|\n",
            "|Classical/Folk/Ja...|                  1|                    0|              1|       2|       1|                   1|          1|         0|          2|   0|   2|                2|                 3|                3|               3|      4|  2|\n",
            "|Classical/Folk/Ja...|                  3|                    4|              4|       2|       4|                   3|          3|         4|          2|   4|   2|                3|                 3|                2|               3|      1|  2|\n",
            "|Classical/Folk/Ja...|                  0|                    1|              2|       3|       1|                   2|          2|         3|          2|   2|   2|                2|                 1|                1|               1|      4|  2|\n",
            "|Classical/Folk/Ja...|                  2|                    2|              2|       4|       0|                   1|          2|         2|          2|   3|   1|                4|                 4|                4|               4|      1|  4|\n",
            "+--------------------+-------------------+---------------------+---------------+--------+--------+--------------------+-----------+----------+-----------+----+----+-----------------+------------------+-----------------+----------------+-------+---+\n",
            "only showing top 20 rows\n",
            "\n"
          ],
          "name": "stdout"
        }
      ]
    },
    {
      "cell_type": "code",
      "metadata": {
        "id": "pqLzoUcRx9mD"
      },
      "source": [
        "from pyspark.ml import feature, regression, evaluation, Pipeline\n",
        "imp_cols=features\n",
        "\n",
        "for col_name in imp_cols:\n",
        "    genre_class_df = genre_class_df.withColumn(col_name, col(col_name).cast('float'))\n",
        "\n",
        "feature_engineering_pipe = Pipeline(stages=[\n",
        "  feature.StringIndexer(inputCol='top_genres', handleInvalid='skip',outputCol = \"Y_top_genre\")\n",
        "]).fit(genre_class_df)\n",
        "\n",
        "genreclass_df=feature_engineering_pipe.transform(genre_class_df)\n",
        "columns_to_drop = ['top_genres']\n",
        "feat=genreclass_df.columns\n",
        "genreclass_df.select(feat).toPandas().to_csv('Final_Model_Dataset.csv')\n",
        "genreclass_df = genreclass_df.drop(*columns_to_drop)\n",
        "\n",
        "train_df,test_df = genreclass_df.randomSplit([0.7, 0.3], seed=0)\n"
      ],
      "execution_count": 29,
      "outputs": []
    },
    {
      "cell_type": "markdown",
      "metadata": {
        "id": "xCJxB6hEnMXj"
      },
      "source": [
        "FEATURE SELECTION"
      ]
    },
    {
      "cell_type": "code",
      "metadata": {
        "id": "pO9HcbZTtGoo",
        "colab": {
          "base_uri": "https://localhost:8080/"
        },
        "outputId": "23e5e6bb-a8d5-42f9-9a69-1870636a4563"
      },
      "source": [
        "import pandas as pd\n",
        "import matplotlib.pyplot as plt\n",
        "from pyspark.ml import feature, regression, evaluation, Pipeline\n",
        "from pyspark.sql import functions as fn, Row \n",
        "from pyspark.ml.evaluation import RegressionEvaluator\n",
        "from pyspark.ml.classification import RandomForestClassifier\n",
        "import matplotlib.pyplot as plt\n",
        "from pyspark.mllib.evaluation import BinaryClassificationMetrics, MulticlassMetrics\n",
        "from pyspark.ml.evaluation import BinaryClassificationEvaluator, MulticlassClassificationEvaluator\n",
        "from pyspark.ml.tuning import ParamGridBuilder\n",
        "from pyspark.ml.feature import VectorAssembler\n",
        "from pyspark.ml.feature import StandardScaler\n",
        "\n",
        "VectorAssembler=VectorAssembler(inputCols= train_df.select(features).columns , outputCol = 'num_features')\n",
        "\n",
        "RFBasemodel = RandomForestClassifier(labelCol=\"Y_top_genre\", \\\n",
        "                            featuresCol=\"num_features\")\n",
        "\n",
        "top_genre_pipe = Pipeline(stages=[VectorAssembler, RFBasemodel]).fit(train_df)\n",
        "\n",
        "evaluatorMulti = MulticlassClassificationEvaluator(labelCol=\"Y_top_genre\", predictionCol=\"prediction\")\n",
        "evaluator = BinaryClassificationEvaluator(labelCol=\"Y_top_genre\", rawPredictionCol=\"prediction\", metricName='areaUnderROC')\n",
        "\n",
        "predictionAndTarget = top_genre_pipe.transform(test_df).select(\"Y_top_genre\", \"prediction\")\n",
        "\n",
        "# Test BaseModel Evaluation\n",
        "acc = evaluatorMulti.evaluate(predictionAndTarget, {evaluatorMulti.metricName: \"accuracy\"})\n",
        "f1 = evaluatorMulti.evaluate(predictionAndTarget, {evaluatorMulti.metricName: \"f1\"})\n",
        "weightedPrecision = evaluatorMulti.evaluate(predictionAndTarget, {evaluatorMulti.metricName: \"weightedPrecision\"})\n",
        "weightedRecall = evaluatorMulti.evaluate(predictionAndTarget, {evaluatorMulti.metricName: \"weightedRecall\"})\n",
        "\n",
        "print('************************Test Evaluation*************************')\n",
        "print(\"Accuracy: %s\\nf1: %s\\nPrecision: %s\\nRecall: %s\"\n",
        "      % (acc, f1, weightedPrecision, weightedRecall))"
      ],
      "execution_count": 30,
      "outputs": [
        {
          "output_type": "stream",
          "text": [
            "************************Test Evaluation*************************\n",
            "Accuracy: 0.5575535695057607\n",
            "f1: 0.5555484877951291\n",
            "Precision: 0.5652708264411883\n",
            "Recall: 0.5575535695057607\n"
          ],
          "name": "stdout"
        }
      ]
    },
    {
      "cell_type": "code",
      "metadata": {
        "colab": {
          "base_uri": "https://localhost:8080/"
        },
        "id": "NIQ5Mg1t-Qy8",
        "outputId": "7946eb8c-3fc3-4616-8eb5-997b34e5e799"
      },
      "source": [
        "rf_model = top_genre_pipe.stages[-1]\n",
        "a=pd.DataFrame(list(zip([cols for cols in genreclass_df.select(features).columns if cols != 'Y_top_genre'], rf_model.featureImportances.toArray())),\n",
        "            columns = ['column', 'weight']).sort_values('weight',ascending = False)\n",
        "a.column.values"
      ],
      "execution_count": 31,
      "outputs": [
        {
          "output_type": "execute_result",
          "data": {
            "text/plain": [
              "array(['chroma_stft', 'spectral_rolloff', 'mfcc', 'spectral_centroid',\n",
              "       'rmse', 'spectral_contrast', 'interest', 'num_listens_per_song',\n",
              "       'track_favorites', 'zcr', 'duration', 'chroma_cens',\n",
              "       'spectral_bandwidth', 'tonnetz', 'num_listens_per_album',\n",
              "       'num_tracks_in_album', 'chroma_cqt'], dtype=object)"
            ]
          },
          "metadata": {
            "tags": []
          },
          "execution_count": 31
        }
      ]
    },
    {
      "cell_type": "code",
      "metadata": {
        "id": "qhijPCKqyvBA",
        "colab": {
          "base_uri": "https://localhost:8080/",
          "height": 281
        },
        "outputId": "cdc1d540-9d8b-4bc1-e6f9-ee1dc94aa390"
      },
      "source": [
        "#plot graph of feature importances for better visualization\n",
        "feat_importances = a.head(10).set_index('column').plot(kind='barh')\n",
        "feat_importances\n",
        "plt.title('Feature Importances')\n",
        "plt.show()\n"
      ],
      "execution_count": 32,
      "outputs": [
        {
          "output_type": "display_data",
          "data": {
            "image/png": "[encoded data removed]",
            "text/plain": [
              "<Figure size 432x288 with 1 Axes>"
            ]
          },
          "metadata": {
            "tags": [],
            "needs_background": "light"
          }
        }
      ]
    },
    {
      "cell_type": "markdown",
      "metadata": {
        "id": "pskS94Nfniqh"
      },
      "source": [
        "Song recommender **systerm**"
      ]
    },
    {
      "cell_type": "code",
      "metadata": {
        "colab": {
          "base_uri": "https://localhost:8080/",
          "height": 462
        },
        "id": "rP49MV_pWHpE",
        "outputId": "65ae5b23-f89e-42a8-b0ea-839aec68296c"
      },
      "source": [
        "# your code here\n",
        "feat.remove('top_genres')\n",
        "feat.remove('Y_top_genre')\n",
        "from pyspark.ml import clustering\n",
        "from pyspark.ml import clustering\n",
        "#VectorAssembler=VectorAssembler(inputCols= genreclass_df.select(feat).columns , outputCol = 'num_features')\n",
        "pipe_pca4 = Pipeline(stages = [VectorAssembler,\n",
        "                               feature.PCA(k=2, inputCol='num_features', outputCol='features')])\n",
        "pipe_model4=pipe_pca4.fit(genreclass_df.select(feat))\n",
        "chars_pca_df = pipe_model4.transform(genreclass_df.select(feat))\n",
        "KMeans=clustering.KMeans(k = 5,predictionCol = 'Kmeans_feat')\n",
        "Kmeans_pipe = Pipeline(stages = [KMeans])\n",
        "Z_model = Kmeans_pipe.fit(chars_pca_df)\n",
        "chars_pca_df= Z_model.transform(chars_pca_df) \n",
        "Z_pd = chars_pca_df.toPandas()\n",
        "Z_pd.Kmeans_feat = Z_pd.Kmeans_feat.apply(lambda x:float(x))\n",
        "X = np.array(chars_pca_df.select('features').rdd.map(lambda x: x['features']).collect())\n",
        "fig, ax = plt.subplots()\n",
        "fig.set_figheight(7)\n",
        "fig.set_figwidth(7)\n",
        "scatter = ax.scatter(X[:,0], X[:,1],c = Z_pd.Kmeans_feat)\n",
        "fig.suptitle(\"5 Cluster Plot\", y=.92)\n",
        "ax.set_xlabel(\"PC1\")\n",
        "ax.set_ylabel(\"PC2\")\n",
        "legend1 = ax.legend(*scatter.legend_elements(),\n",
        "                    loc=\"upper right\", title=\"K Mean Classes\")\n",
        "plt.show()"
      ],
      "execution_count": 33,
      "outputs": [
        {
          "output_type": "display_data",
          "data": {
            "image/png": "[encoded data removed]",
            "text/plain": [
              "<Figure size 504x504 with 1 Axes>"
            ]
          },
          "metadata": {
            "tags": [],
            "needs_background": "light"
          }
        }
      ]
    }
  ]
}
